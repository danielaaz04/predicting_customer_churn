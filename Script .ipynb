{
 "cells": [
  {
   "cell_type": "markdown",
   "id": "documentary-effectiveness",
   "metadata": {},
   "source": [
    "# **Predicting Customer Churn in Kin Security**"
   ]
  },
  {
   "cell_type": "markdown",
   "id": "stretch-moral",
   "metadata": {},
   "source": [
    "## Part I - Define"
   ]
  },
  {
   "cell_type": "markdown",
   "id": "military-census",
   "metadata": {},
   "source": [
    "**1. Business Understanding**"
   ]
  },
  {
   "cell_type": "markdown",
   "id": "light-director",
   "metadata": {},
   "source": [
    "Kin Security is a security service company that offers a variety of products. Their star product 'Kin Safety' has been in the market since 2012 and has been a total success in European market. For this product, a client must sign a contract, pay the installation costs, and a monthly fee for the service. "
   ]
  },
  {
   "cell_type": "markdown",
   "id": "fatty-attention",
   "metadata": {},
   "source": [
    "**2. Define the problem**"
   ]
  },
  {
   "cell_type": "markdown",
   "id": "capable-export",
   "metadata": {},
   "source": [
    "Clients who bought 'Kin Safety' product are canceling before two years so the Company is not being able to recover its investment because of its high fixed cost. The company wants to be able to predict which customers will stay less than two years so that they can construct commercial campaigns that benefit clients who will stay more and penalizes the ones who will not. "
   ]
  },
  {
   "cell_type": "code",
   "execution_count": 1,
   "id": "minor-hungary",
   "metadata": {},
   "outputs": [],
   "source": [
    "import pandas as pd\n",
    "import numpy as np\n",
    "import matplotlib.pyplot as plt\n",
    "%matplotlib inline\n",
    "import seaborn as sns"
   ]
  },
  {
   "cell_type": "markdown",
   "id": "particular-auckland",
   "metadata": {},
   "source": [
    "## Part II - DISCOVER"
   ]
  },
  {
   "cell_type": "markdown",
   "id": "rocky-buying",
   "metadata": {},
   "source": [
    "**3. Load the data**"
   ]
  },
  {
   "cell_type": "code",
   "execution_count": 2,
   "id": "designed-wrapping",
   "metadata": {},
   "outputs": [],
   "source": [
    "#Defining the path for each dataset\n",
    "\n",
    "clients_path = '../data/clients_table.txt'\n",
    "credit_score_path = '../data/credit_score_table.txt'\n",
    "products_path = '../data/products_table.txt'\n",
    "transactions_path = '../data/transactions_table.txt'"
   ]
  },
  {
   "cell_type": "code",
   "execution_count": 3,
   "id": "stretch-probability",
   "metadata": {},
   "outputs": [],
   "source": [
    "#Loading data\n",
    "\n",
    "clients = pd.read_csv(clients_path,sep=\",\")\n",
    "scores = pd.read_csv(credit_score_path,sep=\",\")\n",
    "products = pd.read_csv(products_path,sep=\",\")\n",
    "transactions = pd.read_csv(transactions_path,sep=\",\")"
   ]
  },
  {
   "cell_type": "code",
   "execution_count": 4,
   "id": "anonymous-invite",
   "metadata": {},
   "outputs": [
    {
     "data": {
      "text/html": [
       "<div>\n",
       "<style scoped>\n",
       "    .dataframe tbody tr th:only-of-type {\n",
       "        vertical-align: middle;\n",
       "    }\n",
       "\n",
       "    .dataframe tbody tr th {\n",
       "        vertical-align: top;\n",
       "    }\n",
       "\n",
       "    .dataframe thead th {\n",
       "        text-align: right;\n",
       "    }\n",
       "</style>\n",
       "<table border=\"1\" class=\"dataframe\">\n",
       "  <thead>\n",
       "    <tr style=\"text-align: right;\">\n",
       "      <th></th>\n",
       "      <th>CustomerId</th>\n",
       "      <th>Surname</th>\n",
       "      <th>Geography</th>\n",
       "      <th>Gender</th>\n",
       "      <th>HasCrCard</th>\n",
       "      <th>IsActiveMember</th>\n",
       "      <th>EstimatedSalary</th>\n",
       "      <th>application_date</th>\n",
       "      <th>exit_date</th>\n",
       "      <th>birth_date</th>\n",
       "    </tr>\n",
       "  </thead>\n",
       "  <tbody>\n",
       "    <tr>\n",
       "      <th>0</th>\n",
       "      <td>15745584</td>\n",
       "      <td>EIRLS</td>\n",
       "      <td>Germany</td>\n",
       "      <td>Female</td>\n",
       "      <td>0.0</td>\n",
       "      <td>1.0</td>\n",
       "      <td>0.00</td>\n",
       "      <td>2018-12-14</td>\n",
       "      <td>NaN</td>\n",
       "      <td>1997-09-18</td>\n",
       "    </tr>\n",
       "    <tr>\n",
       "      <th>1</th>\n",
       "      <td>14990118</td>\n",
       "      <td>MOLOCK</td>\n",
       "      <td>Italy</td>\n",
       "      <td>Male</td>\n",
       "      <td>1.0</td>\n",
       "      <td>0.0</td>\n",
       "      <td>121219.28</td>\n",
       "      <td>2019-01-08</td>\n",
       "      <td>NaN</td>\n",
       "      <td>1980-08-03</td>\n",
       "    </tr>\n",
       "    <tr>\n",
       "      <th>2</th>\n",
       "      <td>14733224</td>\n",
       "      <td>PAWLUCH</td>\n",
       "      <td>Italy</td>\n",
       "      <td>Female</td>\n",
       "      <td>1.0</td>\n",
       "      <td>1.0</td>\n",
       "      <td>159663.59</td>\n",
       "      <td>2012-08-01</td>\n",
       "      <td>2013-08-09</td>\n",
       "      <td>1977-08-19</td>\n",
       "    </tr>\n",
       "    <tr>\n",
       "      <th>3</th>\n",
       "      <td>14648573</td>\n",
       "      <td>NALLS</td>\n",
       "      <td>Spain</td>\n",
       "      <td>Male</td>\n",
       "      <td>1.0</td>\n",
       "      <td>0.0</td>\n",
       "      <td>140827.98</td>\n",
       "      <td>2019-06-19</td>\n",
       "      <td>NaN</td>\n",
       "      <td>1979-02-27</td>\n",
       "    </tr>\n",
       "    <tr>\n",
       "      <th>4</th>\n",
       "      <td>15365443</td>\n",
       "      <td>EBERLE</td>\n",
       "      <td>Italy</td>\n",
       "      <td>Male</td>\n",
       "      <td>1.0</td>\n",
       "      <td>0.0</td>\n",
       "      <td>35521.28</td>\n",
       "      <td>2014-01-26</td>\n",
       "      <td>2015-12-04</td>\n",
       "      <td>1972-12-21</td>\n",
       "    </tr>\n",
       "  </tbody>\n",
       "</table>\n",
       "</div>"
      ],
      "text/plain": [
       "   CustomerId  Surname Geography  Gender  HasCrCard  IsActiveMember  \\\n",
       "0    15745584    EIRLS   Germany  Female        0.0             1.0   \n",
       "1    14990118   MOLOCK     Italy    Male        1.0             0.0   \n",
       "2    14733224  PAWLUCH     Italy  Female        1.0             1.0   \n",
       "3    14648573    NALLS     Spain    Male        1.0             0.0   \n",
       "4    15365443   EBERLE     Italy    Male        1.0             0.0   \n",
       "\n",
       "   EstimatedSalary application_date   exit_date  birth_date  \n",
       "0             0.00       2018-12-14         NaN  1997-09-18  \n",
       "1        121219.28       2019-01-08         NaN  1980-08-03  \n",
       "2        159663.59       2012-08-01  2013-08-09  1977-08-19  \n",
       "3        140827.98       2019-06-19         NaN  1979-02-27  \n",
       "4         35521.28       2014-01-26  2015-12-04  1972-12-21  "
      ]
     },
     "execution_count": 4,
     "metadata": {},
     "output_type": "execute_result"
    }
   ],
   "source": [
    "# Let's take a look at the first rows in client dataset\n",
    "\n",
    "clients.head()"
   ]
  },
  {
   "cell_type": "code",
   "execution_count": 5,
   "id": "experienced-detective",
   "metadata": {},
   "outputs": [
    {
     "data": {
      "text/plain": [
       "(1545000, 10)"
      ]
     },
     "execution_count": 5,
     "metadata": {},
     "output_type": "execute_result"
    }
   ],
   "source": [
    "#Let's inspect the dataset to find out how many rows and how many columns does it have.\n",
    "\n",
    "clients.shape"
   ]
  },
  {
   "cell_type": "code",
   "execution_count": 6,
   "id": "tracked-henry",
   "metadata": {},
   "outputs": [
    {
     "name": "stdout",
     "output_type": "stream",
     "text": [
      "<class 'pandas.core.frame.DataFrame'>\n",
      "RangeIndex: 1545000 entries, 0 to 1544999\n",
      "Data columns (total 10 columns):\n",
      " #   Column            Non-Null Count    Dtype  \n",
      "---  ------            --------------    -----  \n",
      " 0   CustomerId        1545000 non-null  int64  \n",
      " 1   Surname           1470084 non-null  object \n",
      " 2   Geography         1486541 non-null  object \n",
      " 3   Gender            1470114 non-null  object \n",
      " 4   HasCrCard         1470114 non-null  float64\n",
      " 5   IsActiveMember    1470114 non-null  float64\n",
      " 6   EstimatedSalary   1470114 non-null  float64\n",
      " 7   application_date  1545000 non-null  object \n",
      " 8   exit_date         1054586 non-null  object \n",
      " 9   birth_date        1470114 non-null  object \n",
      "dtypes: float64(3), int64(1), object(6)\n",
      "memory usage: 117.9+ MB\n"
     ]
    }
   ],
   "source": [
    "#Looking at the data types in our clients dataset\n",
    "\n",
    "clients.info()"
   ]
  },
  {
   "cell_type": "code",
   "execution_count": 7,
   "id": "chubby-authority",
   "metadata": {},
   "outputs": [
    {
     "data": {
      "text/html": [
       "<div>\n",
       "<style scoped>\n",
       "    .dataframe tbody tr th:only-of-type {\n",
       "        vertical-align: middle;\n",
       "    }\n",
       "\n",
       "    .dataframe tbody tr th {\n",
       "        vertical-align: top;\n",
       "    }\n",
       "\n",
       "    .dataframe thead th {\n",
       "        text-align: right;\n",
       "    }\n",
       "</style>\n",
       "<table border=\"1\" class=\"dataframe\">\n",
       "  <thead>\n",
       "    <tr style=\"text-align: right;\">\n",
       "      <th></th>\n",
       "      <th>CustomerId</th>\n",
       "      <th>Date</th>\n",
       "      <th>Score</th>\n",
       "    </tr>\n",
       "  </thead>\n",
       "  <tbody>\n",
       "    <tr>\n",
       "      <th>0</th>\n",
       "      <td>14759722</td>\n",
       "      <td>2018-07</td>\n",
       "      <td>717</td>\n",
       "    </tr>\n",
       "    <tr>\n",
       "      <th>1</th>\n",
       "      <td>15907276</td>\n",
       "      <td>2011-09</td>\n",
       "      <td>562</td>\n",
       "    </tr>\n",
       "    <tr>\n",
       "      <th>2</th>\n",
       "      <td>15346641</td>\n",
       "      <td>2013-01</td>\n",
       "      <td>604</td>\n",
       "    </tr>\n",
       "    <tr>\n",
       "      <th>3</th>\n",
       "      <td>15595126</td>\n",
       "      <td>2018-08</td>\n",
       "      <td>469</td>\n",
       "    </tr>\n",
       "    <tr>\n",
       "      <th>4</th>\n",
       "      <td>15227788</td>\n",
       "      <td>2013-09</td>\n",
       "      <td>655</td>\n",
       "    </tr>\n",
       "  </tbody>\n",
       "</table>\n",
       "</div>"
      ],
      "text/plain": [
       "   CustomerId     Date  Score\n",
       "0    14759722  2018-07    717\n",
       "1    15907276  2011-09    562\n",
       "2    15346641  2013-01    604\n",
       "3    15595126  2018-08    469\n",
       "4    15227788  2013-09    655"
      ]
     },
     "execution_count": 7,
     "metadata": {},
     "output_type": "execute_result"
    }
   ],
   "source": [
    "#First rows in scores dataset\n",
    "\n",
    "scores.head()"
   ]
  },
  {
   "cell_type": "code",
   "execution_count": 8,
   "id": "grand-trial",
   "metadata": {},
   "outputs": [
    {
     "data": {
      "text/html": [
       "<div>\n",
       "<style scoped>\n",
       "    .dataframe tbody tr th:only-of-type {\n",
       "        vertical-align: middle;\n",
       "    }\n",
       "\n",
       "    .dataframe tbody tr th {\n",
       "        vertical-align: top;\n",
       "    }\n",
       "\n",
       "    .dataframe thead th {\n",
       "        text-align: right;\n",
       "    }\n",
       "</style>\n",
       "<table border=\"1\" class=\"dataframe\">\n",
       "  <thead>\n",
       "    <tr style=\"text-align: right;\">\n",
       "      <th></th>\n",
       "      <th>ContractId</th>\n",
       "      <th>CustomerId</th>\n",
       "      <th>Products</th>\n",
       "    </tr>\n",
       "  </thead>\n",
       "  <tbody>\n",
       "    <tr>\n",
       "      <th>0</th>\n",
       "      <td>5Xo9sCduOGo5EhBYhzKrSlLIA</td>\n",
       "      <td>14993808</td>\n",
       "      <td>Product B</td>\n",
       "    </tr>\n",
       "    <tr>\n",
       "      <th>1</th>\n",
       "      <td>3nQbqbnpTeSkYIJWT1UDe1GZ1</td>\n",
       "      <td>15560417</td>\n",
       "      <td>Product B</td>\n",
       "    </tr>\n",
       "    <tr>\n",
       "      <th>2</th>\n",
       "      <td>PD9KwDPOwyJWO6LJKPGBbkrCz</td>\n",
       "      <td>15406428</td>\n",
       "      <td>Product C</td>\n",
       "    </tr>\n",
       "    <tr>\n",
       "      <th>3</th>\n",
       "      <td>IhS7pz8lu07LCZSqYNlL0fuLP</td>\n",
       "      <td>15604313</td>\n",
       "      <td>Product B</td>\n",
       "    </tr>\n",
       "    <tr>\n",
       "      <th>4</th>\n",
       "      <td>ftUey4oVmkZj8RaBVFH6SNzVM</td>\n",
       "      <td>14952409</td>\n",
       "      <td>Product C</td>\n",
       "    </tr>\n",
       "  </tbody>\n",
       "</table>\n",
       "</div>"
      ],
      "text/plain": [
       "                  ContractId  CustomerId   Products\n",
       "0  5Xo9sCduOGo5EhBYhzKrSlLIA    14993808  Product B\n",
       "1  3nQbqbnpTeSkYIJWT1UDe1GZ1    15560417  Product B\n",
       "2  PD9KwDPOwyJWO6LJKPGBbkrCz    15406428  Product C\n",
       "3  IhS7pz8lu07LCZSqYNlL0fuLP    15604313  Product B\n",
       "4  ftUey4oVmkZj8RaBVFH6SNzVM    14952409  Product C"
      ]
     },
     "execution_count": 8,
     "metadata": {},
     "output_type": "execute_result"
    }
   ],
   "source": [
    "#First rows in Products dataset\n",
    "\n",
    "products.head()"
   ]
  },
  {
   "cell_type": "code",
   "execution_count": 9,
   "id": "finished-session",
   "metadata": {},
   "outputs": [
    {
     "data": {
      "text/html": [
       "<div>\n",
       "<style scoped>\n",
       "    .dataframe tbody tr th:only-of-type {\n",
       "        vertical-align: middle;\n",
       "    }\n",
       "\n",
       "    .dataframe tbody tr th {\n",
       "        vertical-align: top;\n",
       "    }\n",
       "\n",
       "    .dataframe thead th {\n",
       "        text-align: right;\n",
       "    }\n",
       "</style>\n",
       "<table border=\"1\" class=\"dataframe\">\n",
       "  <thead>\n",
       "    <tr style=\"text-align: right;\">\n",
       "      <th></th>\n",
       "      <th>CustomerId</th>\n",
       "      <th>Transaction</th>\n",
       "      <th>Value</th>\n",
       "    </tr>\n",
       "  </thead>\n",
       "  <tbody>\n",
       "    <tr>\n",
       "      <th>0</th>\n",
       "      <td>15653320</td>\n",
       "      <td>trans_4</td>\n",
       "      <td>-294.03</td>\n",
       "    </tr>\n",
       "    <tr>\n",
       "      <th>1</th>\n",
       "      <td>14955663</td>\n",
       "      <td>trans_3</td>\n",
       "      <td>1297.97</td>\n",
       "    </tr>\n",
       "    <tr>\n",
       "      <th>2</th>\n",
       "      <td>15218505</td>\n",
       "      <td>trans_4</td>\n",
       "      <td>191.28</td>\n",
       "    </tr>\n",
       "    <tr>\n",
       "      <th>3</th>\n",
       "      <td>15391934</td>\n",
       "      <td>trans_3</td>\n",
       "      <td>2299.07</td>\n",
       "    </tr>\n",
       "    <tr>\n",
       "      <th>4</th>\n",
       "      <td>14847291</td>\n",
       "      <td>trans_3</td>\n",
       "      <td>1612.10</td>\n",
       "    </tr>\n",
       "  </tbody>\n",
       "</table>\n",
       "</div>"
      ],
      "text/plain": [
       "   CustomerId Transaction    Value\n",
       "0    15653320     trans_4  -294.03\n",
       "1    14955663     trans_3  1297.97\n",
       "2    15218505     trans_4   191.28\n",
       "3    15391934     trans_3  2299.07\n",
       "4    14847291     trans_3  1612.10"
      ]
     },
     "execution_count": 9,
     "metadata": {},
     "output_type": "execute_result"
    }
   ],
   "source": [
    "#First rows in Transactions dataset\n",
    "\n",
    "transactions.head()"
   ]
  },
  {
   "cell_type": "markdown",
   "id": "turned-chosen",
   "metadata": {},
   "source": [
    "**4. Clean the data**"
   ]
  },
  {
   "cell_type": "markdown",
   "id": "english-credits",
   "metadata": {},
   "source": [
    "### **Clean Client Database** : \n",
    "We will apply filters to the Clients database to find the final desired population."
   ]
  },
  {
   "cell_type": "markdown",
   "id": "superior-chart",
   "metadata": {},
   "source": [
    "**a. Contracts from 2015 onwards**"
   ]
  },
  {
   "cell_type": "code",
   "execution_count": 10,
   "id": "about-feedback",
   "metadata": {},
   "outputs": [
    {
     "data": {
      "text/html": [
       "<div>\n",
       "<style scoped>\n",
       "    .dataframe tbody tr th:only-of-type {\n",
       "        vertical-align: middle;\n",
       "    }\n",
       "\n",
       "    .dataframe tbody tr th {\n",
       "        vertical-align: top;\n",
       "    }\n",
       "\n",
       "    .dataframe thead th {\n",
       "        text-align: right;\n",
       "    }\n",
       "</style>\n",
       "<table border=\"1\" class=\"dataframe\">\n",
       "  <thead>\n",
       "    <tr style=\"text-align: right;\">\n",
       "      <th></th>\n",
       "      <th>CustomerId</th>\n",
       "      <th>Surname</th>\n",
       "      <th>Geography</th>\n",
       "      <th>Gender</th>\n",
       "      <th>HasCrCard</th>\n",
       "      <th>IsActiveMember</th>\n",
       "      <th>EstimatedSalary</th>\n",
       "      <th>application_date</th>\n",
       "      <th>exit_date</th>\n",
       "      <th>birth_date</th>\n",
       "    </tr>\n",
       "  </thead>\n",
       "  <tbody>\n",
       "    <tr>\n",
       "      <th>0</th>\n",
       "      <td>15745584</td>\n",
       "      <td>EIRLS</td>\n",
       "      <td>Germany</td>\n",
       "      <td>Female</td>\n",
       "      <td>0.0</td>\n",
       "      <td>1.0</td>\n",
       "      <td>0.00</td>\n",
       "      <td>2018-12-14</td>\n",
       "      <td>NaN</td>\n",
       "      <td>1997-09-18</td>\n",
       "    </tr>\n",
       "    <tr>\n",
       "      <th>1</th>\n",
       "      <td>14990118</td>\n",
       "      <td>MOLOCK</td>\n",
       "      <td>Italy</td>\n",
       "      <td>Male</td>\n",
       "      <td>1.0</td>\n",
       "      <td>0.0</td>\n",
       "      <td>121219.28</td>\n",
       "      <td>2019-01-08</td>\n",
       "      <td>NaN</td>\n",
       "      <td>1980-08-03</td>\n",
       "    </tr>\n",
       "    <tr>\n",
       "      <th>3</th>\n",
       "      <td>14648573</td>\n",
       "      <td>NALLS</td>\n",
       "      <td>Spain</td>\n",
       "      <td>Male</td>\n",
       "      <td>1.0</td>\n",
       "      <td>0.0</td>\n",
       "      <td>140827.98</td>\n",
       "      <td>2019-06-19</td>\n",
       "      <td>NaN</td>\n",
       "      <td>1979-02-27</td>\n",
       "    </tr>\n",
       "    <tr>\n",
       "      <th>5</th>\n",
       "      <td>15638124</td>\n",
       "      <td>BRASHERS</td>\n",
       "      <td>Italy</td>\n",
       "      <td>Female</td>\n",
       "      <td>0.0</td>\n",
       "      <td>0.0</td>\n",
       "      <td>170661.45</td>\n",
       "      <td>2018-02-23</td>\n",
       "      <td>NaN</td>\n",
       "      <td>1983-01-13</td>\n",
       "    </tr>\n",
       "    <tr>\n",
       "      <th>7</th>\n",
       "      <td>14523468</td>\n",
       "      <td>LASKOSKI</td>\n",
       "      <td>Spain</td>\n",
       "      <td>Female</td>\n",
       "      <td>1.0</td>\n",
       "      <td>0.0</td>\n",
       "      <td>158161.23</td>\n",
       "      <td>2017-12-28</td>\n",
       "      <td>2018-11-19</td>\n",
       "      <td>1972-10-30</td>\n",
       "    </tr>\n",
       "  </tbody>\n",
       "</table>\n",
       "</div>"
      ],
      "text/plain": [
       "   CustomerId   Surname Geography  Gender  HasCrCard  IsActiveMember  \\\n",
       "0    15745584     EIRLS   Germany  Female        0.0             1.0   \n",
       "1    14990118    MOLOCK     Italy    Male        1.0             0.0   \n",
       "3    14648573     NALLS     Spain    Male        1.0             0.0   \n",
       "5    15638124  BRASHERS     Italy  Female        0.0             0.0   \n",
       "7    14523468  LASKOSKI     Spain  Female        1.0             0.0   \n",
       "\n",
       "   EstimatedSalary application_date   exit_date  birth_date  \n",
       "0             0.00       2018-12-14         NaN  1997-09-18  \n",
       "1        121219.28       2019-01-08         NaN  1980-08-03  \n",
       "3        140827.98       2019-06-19         NaN  1979-02-27  \n",
       "5        170661.45       2018-02-23         NaN  1983-01-13  \n",
       "7        158161.23       2017-12-28  2018-11-19  1972-10-30  "
      ]
     },
     "execution_count": 10,
     "metadata": {},
     "output_type": "execute_result"
    }
   ],
   "source": [
    "mod_a = clients[clients['application_date'] >= '2015-01-01']\n",
    "mod_a.head()"
   ]
  },
  {
   "cell_type": "code",
   "execution_count": 11,
   "id": "starting-snake",
   "metadata": {},
   "outputs": [
    {
     "data": {
      "text/plain": [
       "(623242, 10)"
      ]
     },
     "execution_count": 11,
     "metadata": {},
     "output_type": "execute_result"
    }
   ],
   "source": [
    "mod_a.shape"
   ]
  },
  {
   "cell_type": "markdown",
   "id": "creative-region",
   "metadata": {},
   "source": [
    "**b. Operations in Italy were closed this year (2019)**\n",
    "\n",
    "   (We won't be interested in Italy as there will not be an office in that country anymore)"
   ]
  },
  {
   "cell_type": "code",
   "execution_count": 12,
   "id": "million-archives",
   "metadata": {},
   "outputs": [
    {
     "data": {
      "text/html": [
       "<div>\n",
       "<style scoped>\n",
       "    .dataframe tbody tr th:only-of-type {\n",
       "        vertical-align: middle;\n",
       "    }\n",
       "\n",
       "    .dataframe tbody tr th {\n",
       "        vertical-align: top;\n",
       "    }\n",
       "\n",
       "    .dataframe thead th {\n",
       "        text-align: right;\n",
       "    }\n",
       "</style>\n",
       "<table border=\"1\" class=\"dataframe\">\n",
       "  <thead>\n",
       "    <tr style=\"text-align: right;\">\n",
       "      <th></th>\n",
       "      <th>CustomerId</th>\n",
       "      <th>Surname</th>\n",
       "      <th>Geography</th>\n",
       "      <th>Gender</th>\n",
       "      <th>HasCrCard</th>\n",
       "      <th>IsActiveMember</th>\n",
       "      <th>EstimatedSalary</th>\n",
       "      <th>application_date</th>\n",
       "      <th>exit_date</th>\n",
       "      <th>birth_date</th>\n",
       "    </tr>\n",
       "  </thead>\n",
       "  <tbody>\n",
       "    <tr>\n",
       "      <th>0</th>\n",
       "      <td>15745584</td>\n",
       "      <td>EIRLS</td>\n",
       "      <td>Germany</td>\n",
       "      <td>Female</td>\n",
       "      <td>0.0</td>\n",
       "      <td>1.0</td>\n",
       "      <td>0.00</td>\n",
       "      <td>2018-12-14</td>\n",
       "      <td>NaN</td>\n",
       "      <td>1997-09-18</td>\n",
       "    </tr>\n",
       "    <tr>\n",
       "      <th>3</th>\n",
       "      <td>14648573</td>\n",
       "      <td>NALLS</td>\n",
       "      <td>Spain</td>\n",
       "      <td>Male</td>\n",
       "      <td>1.0</td>\n",
       "      <td>0.0</td>\n",
       "      <td>140827.98</td>\n",
       "      <td>2019-06-19</td>\n",
       "      <td>NaN</td>\n",
       "      <td>1979-02-27</td>\n",
       "    </tr>\n",
       "    <tr>\n",
       "      <th>7</th>\n",
       "      <td>14523468</td>\n",
       "      <td>LASKOSKI</td>\n",
       "      <td>Spain</td>\n",
       "      <td>Female</td>\n",
       "      <td>1.0</td>\n",
       "      <td>0.0</td>\n",
       "      <td>158161.23</td>\n",
       "      <td>2017-12-28</td>\n",
       "      <td>2018-11-19</td>\n",
       "      <td>1972-10-30</td>\n",
       "    </tr>\n",
       "    <tr>\n",
       "      <th>14</th>\n",
       "      <td>15165393</td>\n",
       "      <td>LABIANCA</td>\n",
       "      <td>Spain</td>\n",
       "      <td>Male</td>\n",
       "      <td>1.0</td>\n",
       "      <td>1.0</td>\n",
       "      <td>2612.65</td>\n",
       "      <td>2018-02-22</td>\n",
       "      <td>2019-06-11</td>\n",
       "      <td>1974-07-11</td>\n",
       "    </tr>\n",
       "    <tr>\n",
       "      <th>15</th>\n",
       "      <td>14611239</td>\n",
       "      <td>DOKKA</td>\n",
       "      <td>France</td>\n",
       "      <td>Male</td>\n",
       "      <td>0.0</td>\n",
       "      <td>1.0</td>\n",
       "      <td>72210.60</td>\n",
       "      <td>2019-02-24</td>\n",
       "      <td>NaN</td>\n",
       "      <td>1986-04-26</td>\n",
       "    </tr>\n",
       "  </tbody>\n",
       "</table>\n",
       "</div>"
      ],
      "text/plain": [
       "    CustomerId   Surname Geography  Gender  HasCrCard  IsActiveMember  \\\n",
       "0     15745584     EIRLS   Germany  Female        0.0             1.0   \n",
       "3     14648573     NALLS     Spain    Male        1.0             0.0   \n",
       "7     14523468  LASKOSKI     Spain  Female        1.0             0.0   \n",
       "14    15165393  LABIANCA     Spain    Male        1.0             1.0   \n",
       "15    14611239     DOKKA    France    Male        0.0             1.0   \n",
       "\n",
       "    EstimatedSalary application_date   exit_date  birth_date  \n",
       "0              0.00       2018-12-14         NaN  1997-09-18  \n",
       "3         140827.98       2019-06-19         NaN  1979-02-27  \n",
       "7         158161.23       2017-12-28  2018-11-19  1972-10-30  \n",
       "14          2612.65       2018-02-22  2019-06-11  1974-07-11  \n",
       "15         72210.60       2019-02-24         NaN  1986-04-26  "
      ]
     },
     "execution_count": 12,
     "metadata": {},
     "output_type": "execute_result"
    }
   ],
   "source": [
    "mod_b = mod_a[(mod_a['Geography'] != 'Italy')]\n",
    "mod_b.head()"
   ]
  },
  {
   "cell_type": "code",
   "execution_count": 13,
   "id": "decreased-waters",
   "metadata": {},
   "outputs": [
    {
     "data": {
      "text/plain": [
       "(487424, 10)"
      ]
     },
     "execution_count": 13,
     "metadata": {},
     "output_type": "execute_result"
    }
   ],
   "source": [
    "mod_b.shape"
   ]
  },
  {
   "cell_type": "markdown",
   "id": "stock-cowboy",
   "metadata": {},
   "source": [
    "**c. Take out clients with more than 75% of their info missing.**"
   ]
  },
  {
   "cell_type": "code",
   "execution_count": 14,
   "id": "collect-dispute",
   "metadata": {},
   "outputs": [
    {
     "data": {
      "text/html": [
       "<div>\n",
       "<style scoped>\n",
       "    .dataframe tbody tr th:only-of-type {\n",
       "        vertical-align: middle;\n",
       "    }\n",
       "\n",
       "    .dataframe tbody tr th {\n",
       "        vertical-align: top;\n",
       "    }\n",
       "\n",
       "    .dataframe thead th {\n",
       "        text-align: right;\n",
       "    }\n",
       "</style>\n",
       "<table border=\"1\" class=\"dataframe\">\n",
       "  <thead>\n",
       "    <tr style=\"text-align: right;\">\n",
       "      <th></th>\n",
       "      <th>CustomerId</th>\n",
       "      <th>Surname</th>\n",
       "      <th>Geography</th>\n",
       "      <th>Gender</th>\n",
       "      <th>HasCrCard</th>\n",
       "      <th>IsActiveMember</th>\n",
       "      <th>EstimatedSalary</th>\n",
       "      <th>application_date</th>\n",
       "      <th>exit_date</th>\n",
       "      <th>birth_date</th>\n",
       "    </tr>\n",
       "  </thead>\n",
       "  <tbody>\n",
       "    <tr>\n",
       "      <th>0</th>\n",
       "      <td>15745584</td>\n",
       "      <td>EIRLS</td>\n",
       "      <td>Germany</td>\n",
       "      <td>Female</td>\n",
       "      <td>0.0</td>\n",
       "      <td>1.0</td>\n",
       "      <td>0.00</td>\n",
       "      <td>2018-12-14</td>\n",
       "      <td>NaN</td>\n",
       "      <td>1997-09-18</td>\n",
       "    </tr>\n",
       "    <tr>\n",
       "      <th>3</th>\n",
       "      <td>14648573</td>\n",
       "      <td>NALLS</td>\n",
       "      <td>Spain</td>\n",
       "      <td>Male</td>\n",
       "      <td>1.0</td>\n",
       "      <td>0.0</td>\n",
       "      <td>140827.98</td>\n",
       "      <td>2019-06-19</td>\n",
       "      <td>NaN</td>\n",
       "      <td>1979-02-27</td>\n",
       "    </tr>\n",
       "    <tr>\n",
       "      <th>7</th>\n",
       "      <td>14523468</td>\n",
       "      <td>LASKOSKI</td>\n",
       "      <td>Spain</td>\n",
       "      <td>Female</td>\n",
       "      <td>1.0</td>\n",
       "      <td>0.0</td>\n",
       "      <td>158161.23</td>\n",
       "      <td>2017-12-28</td>\n",
       "      <td>2018-11-19</td>\n",
       "      <td>1972-10-30</td>\n",
       "    </tr>\n",
       "    <tr>\n",
       "      <th>14</th>\n",
       "      <td>15165393</td>\n",
       "      <td>LABIANCA</td>\n",
       "      <td>Spain</td>\n",
       "      <td>Male</td>\n",
       "      <td>1.0</td>\n",
       "      <td>1.0</td>\n",
       "      <td>2612.65</td>\n",
       "      <td>2018-02-22</td>\n",
       "      <td>2019-06-11</td>\n",
       "      <td>1974-07-11</td>\n",
       "    </tr>\n",
       "    <tr>\n",
       "      <th>15</th>\n",
       "      <td>14611239</td>\n",
       "      <td>DOKKA</td>\n",
       "      <td>France</td>\n",
       "      <td>Male</td>\n",
       "      <td>0.0</td>\n",
       "      <td>1.0</td>\n",
       "      <td>72210.60</td>\n",
       "      <td>2019-02-24</td>\n",
       "      <td>NaN</td>\n",
       "      <td>1986-04-26</td>\n",
       "    </tr>\n",
       "  </tbody>\n",
       "</table>\n",
       "</div>"
      ],
      "text/plain": [
       "    CustomerId   Surname Geography  Gender  HasCrCard  IsActiveMember  \\\n",
       "0     15745584     EIRLS   Germany  Female        0.0             1.0   \n",
       "3     14648573     NALLS     Spain    Male        1.0             0.0   \n",
       "7     14523468  LASKOSKI     Spain  Female        1.0             0.0   \n",
       "14    15165393  LABIANCA     Spain    Male        1.0             1.0   \n",
       "15    14611239     DOKKA    France    Male        0.0             1.0   \n",
       "\n",
       "    EstimatedSalary application_date   exit_date  birth_date  \n",
       "0              0.00       2018-12-14         NaN  1997-09-18  \n",
       "3         140827.98       2019-06-19         NaN  1979-02-27  \n",
       "7         158161.23       2017-12-28  2018-11-19  1972-10-30  \n",
       "14          2612.65       2018-02-22  2019-06-11  1974-07-11  \n",
       "15         72210.60       2019-02-24         NaN  1986-04-26  "
      ]
     },
     "execution_count": 14,
     "metadata": {},
     "output_type": "execute_result"
    }
   ],
   "source": [
    "# Delete rows containing either 75% or more than 75% NaN Values\n",
    "\n",
    "perc = 75\n",
    "min_count =  int(((100-perc)/100)*mod_b.shape[1] + 1)\n",
    "mod_c = mod_b.dropna( axis=0, \n",
    "                    thresh=min_count)\n",
    "\n",
    "mod_c.head()"
   ]
  },
  {
   "cell_type": "code",
   "execution_count": 15,
   "id": "higher-joshua",
   "metadata": {},
   "outputs": [
    {
     "data": {
      "text/plain": [
       "(468773, 10)"
      ]
     },
     "execution_count": 15,
     "metadata": {},
     "output_type": "execute_result"
    }
   ],
   "source": [
    "mod_c.shape"
   ]
  },
  {
   "cell_type": "markdown",
   "id": "engaging-profit",
   "metadata": {},
   "source": [
    "**d. Each client should only have one contract in the database, no more.**"
   ]
  },
  {
   "cell_type": "code",
   "execution_count": 16,
   "id": "changing-pulse",
   "metadata": {},
   "outputs": [
    {
     "data": {
      "text/html": [
       "<div>\n",
       "<style scoped>\n",
       "    .dataframe tbody tr th:only-of-type {\n",
       "        vertical-align: middle;\n",
       "    }\n",
       "\n",
       "    .dataframe tbody tr th {\n",
       "        vertical-align: top;\n",
       "    }\n",
       "\n",
       "    .dataframe thead th {\n",
       "        text-align: right;\n",
       "    }\n",
       "</style>\n",
       "<table border=\"1\" class=\"dataframe\">\n",
       "  <thead>\n",
       "    <tr style=\"text-align: right;\">\n",
       "      <th></th>\n",
       "      <th>CustomerId</th>\n",
       "      <th>Surname</th>\n",
       "      <th>Geography</th>\n",
       "      <th>Gender</th>\n",
       "      <th>HasCrCard</th>\n",
       "      <th>IsActiveMember</th>\n",
       "      <th>EstimatedSalary</th>\n",
       "      <th>application_date</th>\n",
       "      <th>exit_date</th>\n",
       "      <th>birth_date</th>\n",
       "    </tr>\n",
       "  </thead>\n",
       "  <tbody>\n",
       "    <tr>\n",
       "      <th>0</th>\n",
       "      <td>15745584</td>\n",
       "      <td>EIRLS</td>\n",
       "      <td>Germany</td>\n",
       "      <td>Female</td>\n",
       "      <td>0.0</td>\n",
       "      <td>1.0</td>\n",
       "      <td>0.00</td>\n",
       "      <td>2018-12-14</td>\n",
       "      <td>NaN</td>\n",
       "      <td>1997-09-18</td>\n",
       "    </tr>\n",
       "    <tr>\n",
       "      <th>3</th>\n",
       "      <td>14648573</td>\n",
       "      <td>NALLS</td>\n",
       "      <td>Spain</td>\n",
       "      <td>Male</td>\n",
       "      <td>1.0</td>\n",
       "      <td>0.0</td>\n",
       "      <td>140827.98</td>\n",
       "      <td>2019-06-19</td>\n",
       "      <td>NaN</td>\n",
       "      <td>1979-02-27</td>\n",
       "    </tr>\n",
       "    <tr>\n",
       "      <th>7</th>\n",
       "      <td>14523468</td>\n",
       "      <td>LASKOSKI</td>\n",
       "      <td>Spain</td>\n",
       "      <td>Female</td>\n",
       "      <td>1.0</td>\n",
       "      <td>0.0</td>\n",
       "      <td>158161.23</td>\n",
       "      <td>2017-12-28</td>\n",
       "      <td>2018-11-19</td>\n",
       "      <td>1972-10-30</td>\n",
       "    </tr>\n",
       "    <tr>\n",
       "      <th>14</th>\n",
       "      <td>15165393</td>\n",
       "      <td>LABIANCA</td>\n",
       "      <td>Spain</td>\n",
       "      <td>Male</td>\n",
       "      <td>1.0</td>\n",
       "      <td>1.0</td>\n",
       "      <td>2612.65</td>\n",
       "      <td>2018-02-22</td>\n",
       "      <td>2019-06-11</td>\n",
       "      <td>1974-07-11</td>\n",
       "    </tr>\n",
       "    <tr>\n",
       "      <th>15</th>\n",
       "      <td>14611239</td>\n",
       "      <td>DOKKA</td>\n",
       "      <td>France</td>\n",
       "      <td>Male</td>\n",
       "      <td>0.0</td>\n",
       "      <td>1.0</td>\n",
       "      <td>72210.60</td>\n",
       "      <td>2019-02-24</td>\n",
       "      <td>NaN</td>\n",
       "      <td>1986-04-26</td>\n",
       "    </tr>\n",
       "  </tbody>\n",
       "</table>\n",
       "</div>"
      ],
      "text/plain": [
       "    CustomerId   Surname Geography  Gender  HasCrCard  IsActiveMember  \\\n",
       "0     15745584     EIRLS   Germany  Female        0.0             1.0   \n",
       "3     14648573     NALLS     Spain    Male        1.0             0.0   \n",
       "7     14523468  LASKOSKI     Spain  Female        1.0             0.0   \n",
       "14    15165393  LABIANCA     Spain    Male        1.0             1.0   \n",
       "15    14611239     DOKKA    France    Male        0.0             1.0   \n",
       "\n",
       "    EstimatedSalary application_date   exit_date  birth_date  \n",
       "0              0.00       2018-12-14         NaN  1997-09-18  \n",
       "3         140827.98       2019-06-19         NaN  1979-02-27  \n",
       "7         158161.23       2017-12-28  2018-11-19  1972-10-30  \n",
       "14          2612.65       2018-02-22  2019-06-11  1974-07-11  \n",
       "15         72210.60       2019-02-24         NaN  1986-04-26  "
      ]
     },
     "execution_count": 16,
     "metadata": {},
     "output_type": "execute_result"
    }
   ],
   "source": [
    "mod_d = mod_c.drop_duplicates(['CustomerId']).copy()\n",
    "mod_d.head()"
   ]
  },
  {
   "cell_type": "code",
   "execution_count": 17,
   "id": "opened-laugh",
   "metadata": {},
   "outputs": [
    {
     "data": {
      "text/plain": [
       "(455128, 10)"
      ]
     },
     "execution_count": 17,
     "metadata": {},
     "output_type": "execute_result"
    }
   ],
   "source": [
    "mod_d.shape"
   ]
  },
  {
   "cell_type": "markdown",
   "id": "impressed-cigarette",
   "metadata": {},
   "source": [
    "**e. Remember that for a client to be eligible, it must have at least two years of imformation within the company (even if it canceled the product)**"
   ]
  },
  {
   "cell_type": "code",
   "execution_count": 18,
   "id": "tired-isaac",
   "metadata": {},
   "outputs": [
    {
     "data": {
      "text/html": [
       "<div>\n",
       "<style scoped>\n",
       "    .dataframe tbody tr th:only-of-type {\n",
       "        vertical-align: middle;\n",
       "    }\n",
       "\n",
       "    .dataframe tbody tr th {\n",
       "        vertical-align: top;\n",
       "    }\n",
       "\n",
       "    .dataframe thead th {\n",
       "        text-align: right;\n",
       "    }\n",
       "</style>\n",
       "<table border=\"1\" class=\"dataframe\">\n",
       "  <thead>\n",
       "    <tr style=\"text-align: right;\">\n",
       "      <th></th>\n",
       "      <th>CustomerId</th>\n",
       "      <th>Surname</th>\n",
       "      <th>Geography</th>\n",
       "      <th>Gender</th>\n",
       "      <th>HasCrCard</th>\n",
       "      <th>IsActiveMember</th>\n",
       "      <th>EstimatedSalary</th>\n",
       "      <th>application_date</th>\n",
       "      <th>exit_date</th>\n",
       "      <th>birth_date</th>\n",
       "    </tr>\n",
       "  </thead>\n",
       "  <tbody>\n",
       "    <tr>\n",
       "      <th>0</th>\n",
       "      <td>15745584</td>\n",
       "      <td>EIRLS</td>\n",
       "      <td>Germany</td>\n",
       "      <td>Female</td>\n",
       "      <td>0.0</td>\n",
       "      <td>1.0</td>\n",
       "      <td>0.00</td>\n",
       "      <td>2018-12-14</td>\n",
       "      <td>2019-11-30</td>\n",
       "      <td>1997-09-18</td>\n",
       "    </tr>\n",
       "    <tr>\n",
       "      <th>3</th>\n",
       "      <td>14648573</td>\n",
       "      <td>NALLS</td>\n",
       "      <td>Spain</td>\n",
       "      <td>Male</td>\n",
       "      <td>1.0</td>\n",
       "      <td>0.0</td>\n",
       "      <td>140827.98</td>\n",
       "      <td>2019-06-19</td>\n",
       "      <td>2019-11-30</td>\n",
       "      <td>1979-02-27</td>\n",
       "    </tr>\n",
       "    <tr>\n",
       "      <th>7</th>\n",
       "      <td>14523468</td>\n",
       "      <td>LASKOSKI</td>\n",
       "      <td>Spain</td>\n",
       "      <td>Female</td>\n",
       "      <td>1.0</td>\n",
       "      <td>0.0</td>\n",
       "      <td>158161.23</td>\n",
       "      <td>2017-12-28</td>\n",
       "      <td>2018-11-19</td>\n",
       "      <td>1972-10-30</td>\n",
       "    </tr>\n",
       "    <tr>\n",
       "      <th>14</th>\n",
       "      <td>15165393</td>\n",
       "      <td>LABIANCA</td>\n",
       "      <td>Spain</td>\n",
       "      <td>Male</td>\n",
       "      <td>1.0</td>\n",
       "      <td>1.0</td>\n",
       "      <td>2612.65</td>\n",
       "      <td>2018-02-22</td>\n",
       "      <td>2019-06-11</td>\n",
       "      <td>1974-07-11</td>\n",
       "    </tr>\n",
       "    <tr>\n",
       "      <th>15</th>\n",
       "      <td>14611239</td>\n",
       "      <td>DOKKA</td>\n",
       "      <td>France</td>\n",
       "      <td>Male</td>\n",
       "      <td>0.0</td>\n",
       "      <td>1.0</td>\n",
       "      <td>72210.60</td>\n",
       "      <td>2019-02-24</td>\n",
       "      <td>2019-11-30</td>\n",
       "      <td>1986-04-26</td>\n",
       "    </tr>\n",
       "  </tbody>\n",
       "</table>\n",
       "</div>"
      ],
      "text/plain": [
       "    CustomerId   Surname Geography  Gender  HasCrCard  IsActiveMember  \\\n",
       "0     15745584     EIRLS   Germany  Female        0.0             1.0   \n",
       "3     14648573     NALLS     Spain    Male        1.0             0.0   \n",
       "7     14523468  LASKOSKI     Spain  Female        1.0             0.0   \n",
       "14    15165393  LABIANCA     Spain    Male        1.0             1.0   \n",
       "15    14611239     DOKKA    France    Male        0.0             1.0   \n",
       "\n",
       "    EstimatedSalary application_date   exit_date  birth_date  \n",
       "0              0.00       2018-12-14  2019-11-30  1997-09-18  \n",
       "3         140827.98       2019-06-19  2019-11-30  1979-02-27  \n",
       "7         158161.23       2017-12-28  2018-11-19  1972-10-30  \n",
       "14          2612.65       2018-02-22  2019-06-11  1974-07-11  \n",
       "15         72210.60       2019-02-24  2019-11-30  1986-04-26  "
      ]
     },
     "execution_count": 18,
     "metadata": {},
     "output_type": "execute_result"
    }
   ],
   "source": [
    "#As there are clients that have not cancelled , their exit_date in Nan, so we will pretend that their exit_date\n",
    "#is today's date, to avoid error messages when calculating the number of days.\n",
    "\n",
    "today = '2019-11-30'\n",
    "mod_d['exit_date'] = mod_d['exit_date'].replace(np.nan, today).copy()\n",
    "mod_d.head()"
   ]
  },
  {
   "cell_type": "code",
   "execution_count": 19,
   "id": "changed-collectible",
   "metadata": {},
   "outputs": [
    {
     "data": {
      "text/html": [
       "<div>\n",
       "<style scoped>\n",
       "    .dataframe tbody tr th:only-of-type {\n",
       "        vertical-align: middle;\n",
       "    }\n",
       "\n",
       "    .dataframe tbody tr th {\n",
       "        vertical-align: top;\n",
       "    }\n",
       "\n",
       "    .dataframe thead th {\n",
       "        text-align: right;\n",
       "    }\n",
       "</style>\n",
       "<table border=\"1\" class=\"dataframe\">\n",
       "  <thead>\n",
       "    <tr style=\"text-align: right;\">\n",
       "      <th></th>\n",
       "      <th>CustomerId</th>\n",
       "      <th>Surname</th>\n",
       "      <th>Geography</th>\n",
       "      <th>Gender</th>\n",
       "      <th>HasCrCard</th>\n",
       "      <th>IsActiveMember</th>\n",
       "      <th>EstimatedSalary</th>\n",
       "      <th>application_date</th>\n",
       "      <th>exit_date</th>\n",
       "      <th>birth_date</th>\n",
       "      <th>days_in_company</th>\n",
       "    </tr>\n",
       "  </thead>\n",
       "  <tbody>\n",
       "    <tr>\n",
       "      <th>0</th>\n",
       "      <td>15745584</td>\n",
       "      <td>EIRLS</td>\n",
       "      <td>Germany</td>\n",
       "      <td>Female</td>\n",
       "      <td>0.0</td>\n",
       "      <td>1.0</td>\n",
       "      <td>0.00</td>\n",
       "      <td>2018-12-14</td>\n",
       "      <td>2019-11-30</td>\n",
       "      <td>1997-09-18</td>\n",
       "      <td>351</td>\n",
       "    </tr>\n",
       "    <tr>\n",
       "      <th>3</th>\n",
       "      <td>14648573</td>\n",
       "      <td>NALLS</td>\n",
       "      <td>Spain</td>\n",
       "      <td>Male</td>\n",
       "      <td>1.0</td>\n",
       "      <td>0.0</td>\n",
       "      <td>140827.98</td>\n",
       "      <td>2019-06-19</td>\n",
       "      <td>2019-11-30</td>\n",
       "      <td>1979-02-27</td>\n",
       "      <td>164</td>\n",
       "    </tr>\n",
       "    <tr>\n",
       "      <th>7</th>\n",
       "      <td>14523468</td>\n",
       "      <td>LASKOSKI</td>\n",
       "      <td>Spain</td>\n",
       "      <td>Female</td>\n",
       "      <td>1.0</td>\n",
       "      <td>0.0</td>\n",
       "      <td>158161.23</td>\n",
       "      <td>2017-12-28</td>\n",
       "      <td>2018-11-19</td>\n",
       "      <td>1972-10-30</td>\n",
       "      <td>326</td>\n",
       "    </tr>\n",
       "    <tr>\n",
       "      <th>14</th>\n",
       "      <td>15165393</td>\n",
       "      <td>LABIANCA</td>\n",
       "      <td>Spain</td>\n",
       "      <td>Male</td>\n",
       "      <td>1.0</td>\n",
       "      <td>1.0</td>\n",
       "      <td>2612.65</td>\n",
       "      <td>2018-02-22</td>\n",
       "      <td>2019-06-11</td>\n",
       "      <td>1974-07-11</td>\n",
       "      <td>474</td>\n",
       "    </tr>\n",
       "    <tr>\n",
       "      <th>15</th>\n",
       "      <td>14611239</td>\n",
       "      <td>DOKKA</td>\n",
       "      <td>France</td>\n",
       "      <td>Male</td>\n",
       "      <td>0.0</td>\n",
       "      <td>1.0</td>\n",
       "      <td>72210.60</td>\n",
       "      <td>2019-02-24</td>\n",
       "      <td>2019-11-30</td>\n",
       "      <td>1986-04-26</td>\n",
       "      <td>279</td>\n",
       "    </tr>\n",
       "  </tbody>\n",
       "</table>\n",
       "</div>"
      ],
      "text/plain": [
       "    CustomerId   Surname Geography  Gender  HasCrCard  IsActiveMember  \\\n",
       "0     15745584     EIRLS   Germany  Female        0.0             1.0   \n",
       "3     14648573     NALLS     Spain    Male        1.0             0.0   \n",
       "7     14523468  LASKOSKI     Spain  Female        1.0             0.0   \n",
       "14    15165393  LABIANCA     Spain    Male        1.0             1.0   \n",
       "15    14611239     DOKKA    France    Male        0.0             1.0   \n",
       "\n",
       "    EstimatedSalary application_date  exit_date  birth_date  days_in_company  \n",
       "0              0.00       2018-12-14 2019-11-30  1997-09-18              351  \n",
       "3         140827.98       2019-06-19 2019-11-30  1979-02-27              164  \n",
       "7         158161.23       2017-12-28 2018-11-19  1972-10-30              326  \n",
       "14          2612.65       2018-02-22 2019-06-11  1974-07-11              474  \n",
       "15         72210.60       2019-02-24 2019-11-30  1986-04-26              279  "
      ]
     },
     "execution_count": 19,
     "metadata": {},
     "output_type": "execute_result"
    }
   ],
   "source": [
    "#For a better undersating of the number of days calculation we will add temporarily a column with the difference in days \n",
    "#between application_date and exit_date.\n",
    "\n",
    "mod_d[['application_date','exit_date']] = mod_d[['application_date','exit_date']].apply(pd.to_datetime).copy()\n",
    "mod_d['days_in_company'] = (mod_d['exit_date'] - mod_d['application_date']).dt.days\n",
    "mod_d.head()"
   ]
  },
  {
   "cell_type": "code",
   "execution_count": 20,
   "id": "representative-illness",
   "metadata": {},
   "outputs": [
    {
     "data": {
      "text/html": [
       "<div>\n",
       "<style scoped>\n",
       "    .dataframe tbody tr th:only-of-type {\n",
       "        vertical-align: middle;\n",
       "    }\n",
       "\n",
       "    .dataframe tbody tr th {\n",
       "        vertical-align: top;\n",
       "    }\n",
       "\n",
       "    .dataframe thead th {\n",
       "        text-align: right;\n",
       "    }\n",
       "</style>\n",
       "<table border=\"1\" class=\"dataframe\">\n",
       "  <thead>\n",
       "    <tr style=\"text-align: right;\">\n",
       "      <th></th>\n",
       "      <th>CustomerId</th>\n",
       "      <th>Surname</th>\n",
       "      <th>Geography</th>\n",
       "      <th>Gender</th>\n",
       "      <th>HasCrCard</th>\n",
       "      <th>IsActiveMember</th>\n",
       "      <th>EstimatedSalary</th>\n",
       "      <th>application_date</th>\n",
       "      <th>exit_date</th>\n",
       "      <th>birth_date</th>\n",
       "      <th>days_in_company</th>\n",
       "    </tr>\n",
       "  </thead>\n",
       "  <tbody>\n",
       "    <tr>\n",
       "      <th>75</th>\n",
       "      <td>15610711</td>\n",
       "      <td>Eluemuno</td>\n",
       "      <td>Germany</td>\n",
       "      <td>Female</td>\n",
       "      <td>0.0</td>\n",
       "      <td>0.0</td>\n",
       "      <td>167673.37</td>\n",
       "      <td>2017-03-05</td>\n",
       "      <td>2019-11-27</td>\n",
       "      <td>1976-10-21</td>\n",
       "      <td>997</td>\n",
       "    </tr>\n",
       "    <tr>\n",
       "      <th>484</th>\n",
       "      <td>15594720</td>\n",
       "      <td>Scott</td>\n",
       "      <td>Germany</td>\n",
       "      <td>Female</td>\n",
       "      <td>1.0</td>\n",
       "      <td>1.0</td>\n",
       "      <td>189339.60</td>\n",
       "      <td>2017-11-08</td>\n",
       "      <td>2019-11-30</td>\n",
       "      <td>1982-05-14</td>\n",
       "      <td>752</td>\n",
       "    </tr>\n",
       "    <tr>\n",
       "      <th>901</th>\n",
       "      <td>15706552</td>\n",
       "      <td>Odinakachukwu</td>\n",
       "      <td>France</td>\n",
       "      <td>Male</td>\n",
       "      <td>0.0</td>\n",
       "      <td>1.0</td>\n",
       "      <td>156731.91</td>\n",
       "      <td>2016-02-15</td>\n",
       "      <td>2019-10-02</td>\n",
       "      <td>1979-09-09</td>\n",
       "      <td>1325</td>\n",
       "    </tr>\n",
       "    <tr>\n",
       "      <th>1440</th>\n",
       "      <td>15594084</td>\n",
       "      <td>Anderson</td>\n",
       "      <td>France</td>\n",
       "      <td>Male</td>\n",
       "      <td>1.0</td>\n",
       "      <td>0.0</td>\n",
       "      <td>74405.34</td>\n",
       "      <td>2016-03-17</td>\n",
       "      <td>2019-09-07</td>\n",
       "      <td>1993-06-08</td>\n",
       "      <td>1269</td>\n",
       "    </tr>\n",
       "    <tr>\n",
       "      <th>1543</th>\n",
       "      <td>15756871</td>\n",
       "      <td>Capon</td>\n",
       "      <td>Spain</td>\n",
       "      <td>Male</td>\n",
       "      <td>1.0</td>\n",
       "      <td>0.0</td>\n",
       "      <td>134878.19</td>\n",
       "      <td>2015-05-20</td>\n",
       "      <td>2018-04-29</td>\n",
       "      <td>1976-04-20</td>\n",
       "      <td>1075</td>\n",
       "    </tr>\n",
       "  </tbody>\n",
       "</table>\n",
       "</div>"
      ],
      "text/plain": [
       "      CustomerId        Surname Geography  Gender  HasCrCard  IsActiveMember  \\\n",
       "75      15610711       Eluemuno   Germany  Female        0.0             0.0   \n",
       "484     15594720          Scott   Germany  Female        1.0             1.0   \n",
       "901     15706552  Odinakachukwu    France    Male        0.0             1.0   \n",
       "1440    15594084       Anderson    France    Male        1.0             0.0   \n",
       "1543    15756871          Capon     Spain    Male        1.0             0.0   \n",
       "\n",
       "      EstimatedSalary application_date  exit_date  birth_date  days_in_company  \n",
       "75          167673.37       2017-03-05 2019-11-27  1976-10-21              997  \n",
       "484         189339.60       2017-11-08 2019-11-30  1982-05-14              752  \n",
       "901         156731.91       2016-02-15 2019-10-02  1979-09-09             1325  \n",
       "1440         74405.34       2016-03-17 2019-09-07  1993-06-08             1269  \n",
       "1543        134878.19       2015-05-20 2018-04-29  1976-04-20             1075  "
      ]
     },
     "execution_count": 20,
     "metadata": {},
     "output_type": "execute_result"
    }
   ],
   "source": [
    "mod_e = mod_d[mod_d['days_in_company'] >= 730]\n",
    "mod_e.head()"
   ]
  },
  {
   "cell_type": "code",
   "execution_count": 21,
   "id": "automatic-vertical",
   "metadata": {},
   "outputs": [
    {
     "data": {
      "text/plain": [
       "(7963, 11)"
      ]
     },
     "execution_count": 21,
     "metadata": {},
     "output_type": "execute_result"
    }
   ],
   "source": [
    "mod_e.shape"
   ]
  },
  {
   "cell_type": "code",
   "execution_count": 22,
   "id": "about-palestinian",
   "metadata": {},
   "outputs": [],
   "source": [
    "mod_e = mod_e.drop('days_in_company', axis=1).copy()"
   ]
  },
  {
   "cell_type": "code",
   "execution_count": 23,
   "id": "sorted-edwards",
   "metadata": {},
   "outputs": [
    {
     "data": {
      "text/plain": [
       "(7963, 10)"
      ]
     },
     "execution_count": 23,
     "metadata": {},
     "output_type": "execute_result"
    }
   ],
   "source": [
    "mod_e.shape"
   ]
  },
  {
   "cell_type": "code",
   "execution_count": 24,
   "id": "distributed-eight",
   "metadata": {},
   "outputs": [
    {
     "data": {
      "text/html": [
       "<div>\n",
       "<style scoped>\n",
       "    .dataframe tbody tr th:only-of-type {\n",
       "        vertical-align: middle;\n",
       "    }\n",
       "\n",
       "    .dataframe tbody tr th {\n",
       "        vertical-align: top;\n",
       "    }\n",
       "\n",
       "    .dataframe thead th {\n",
       "        text-align: right;\n",
       "    }\n",
       "</style>\n",
       "<table border=\"1\" class=\"dataframe\">\n",
       "  <thead>\n",
       "    <tr style=\"text-align: right;\">\n",
       "      <th></th>\n",
       "      <th>Surname</th>\n",
       "      <th>Geography</th>\n",
       "      <th>Gender</th>\n",
       "      <th>HasCrCard</th>\n",
       "      <th>IsActiveMember</th>\n",
       "      <th>EstimatedSalary</th>\n",
       "      <th>application_date</th>\n",
       "      <th>exit_date</th>\n",
       "      <th>birth_date</th>\n",
       "    </tr>\n",
       "    <tr>\n",
       "      <th>CustomerId</th>\n",
       "      <th></th>\n",
       "      <th></th>\n",
       "      <th></th>\n",
       "      <th></th>\n",
       "      <th></th>\n",
       "      <th></th>\n",
       "      <th></th>\n",
       "      <th></th>\n",
       "      <th></th>\n",
       "    </tr>\n",
       "  </thead>\n",
       "  <tbody>\n",
       "    <tr>\n",
       "      <th>15610711</th>\n",
       "      <td>Eluemuno</td>\n",
       "      <td>Germany</td>\n",
       "      <td>Female</td>\n",
       "      <td>0.0</td>\n",
       "      <td>0.0</td>\n",
       "      <td>167673.37</td>\n",
       "      <td>2017-03-05</td>\n",
       "      <td>2019-11-27</td>\n",
       "      <td>1976-10-21</td>\n",
       "    </tr>\n",
       "    <tr>\n",
       "      <th>15594720</th>\n",
       "      <td>Scott</td>\n",
       "      <td>Germany</td>\n",
       "      <td>Female</td>\n",
       "      <td>1.0</td>\n",
       "      <td>1.0</td>\n",
       "      <td>189339.60</td>\n",
       "      <td>2017-11-08</td>\n",
       "      <td>2019-11-30</td>\n",
       "      <td>1982-05-14</td>\n",
       "    </tr>\n",
       "    <tr>\n",
       "      <th>15706552</th>\n",
       "      <td>Odinakachukwu</td>\n",
       "      <td>France</td>\n",
       "      <td>Male</td>\n",
       "      <td>0.0</td>\n",
       "      <td>1.0</td>\n",
       "      <td>156731.91</td>\n",
       "      <td>2016-02-15</td>\n",
       "      <td>2019-10-02</td>\n",
       "      <td>1979-09-09</td>\n",
       "    </tr>\n",
       "    <tr>\n",
       "      <th>15594084</th>\n",
       "      <td>Anderson</td>\n",
       "      <td>France</td>\n",
       "      <td>Male</td>\n",
       "      <td>1.0</td>\n",
       "      <td>0.0</td>\n",
       "      <td>74405.34</td>\n",
       "      <td>2016-03-17</td>\n",
       "      <td>2019-09-07</td>\n",
       "      <td>1993-06-08</td>\n",
       "    </tr>\n",
       "    <tr>\n",
       "      <th>15756871</th>\n",
       "      <td>Capon</td>\n",
       "      <td>Spain</td>\n",
       "      <td>Male</td>\n",
       "      <td>1.0</td>\n",
       "      <td>0.0</td>\n",
       "      <td>134878.19</td>\n",
       "      <td>2015-05-20</td>\n",
       "      <td>2018-04-29</td>\n",
       "      <td>1976-04-20</td>\n",
       "    </tr>\n",
       "  </tbody>\n",
       "</table>\n",
       "</div>"
      ],
      "text/plain": [
       "                  Surname Geography  Gender  HasCrCard  IsActiveMember  \\\n",
       "CustomerId                                                               \n",
       "15610711         Eluemuno   Germany  Female        0.0             0.0   \n",
       "15594720            Scott   Germany  Female        1.0             1.0   \n",
       "15706552    Odinakachukwu    France    Male        0.0             1.0   \n",
       "15594084         Anderson    France    Male        1.0             0.0   \n",
       "15756871            Capon     Spain    Male        1.0             0.0   \n",
       "\n",
       "            EstimatedSalary application_date  exit_date  birth_date  \n",
       "CustomerId                                                           \n",
       "15610711          167673.37       2017-03-05 2019-11-27  1976-10-21  \n",
       "15594720          189339.60       2017-11-08 2019-11-30  1982-05-14  \n",
       "15706552          156731.91       2016-02-15 2019-10-02  1979-09-09  \n",
       "15594084           74405.34       2016-03-17 2019-09-07  1993-06-08  \n",
       "15756871          134878.19       2015-05-20 2018-04-29  1976-04-20  "
      ]
     },
     "execution_count": 24,
     "metadata": {},
     "output_type": "execute_result"
    }
   ],
   "source": [
    "desired_population = mod_e.set_index('CustomerId')\n",
    "desired_population.head()"
   ]
  },
  {
   "cell_type": "markdown",
   "id": "understanding-sunrise",
   "metadata": {},
   "source": [
    "So far, our desired population has now 7,963 clients"
   ]
  },
  {
   "cell_type": "markdown",
   "id": "specified-sleeve",
   "metadata": {},
   "source": [
    "### **Obtain relevant variables:** \n",
    "We will now use the different datasets to find the following variables and append them to the Clients dataset"
   ]
  },
  {
   "cell_type": "markdown",
   "id": "aggregate-statement",
   "metadata": {},
   "source": [
    "**a. Products dataset ---> Number of products per client at the moment of application**"
   ]
  },
  {
   "cell_type": "code",
   "execution_count": 26,
   "id": "marked-evidence",
   "metadata": {},
   "outputs": [],
   "source": [
    "#Obtaining number of products per client in a variable\n",
    "products_per_client = products['CustomerId'].value_counts()"
   ]
  },
  {
   "cell_type": "code",
   "execution_count": 27,
   "id": "comparable-image",
   "metadata": {},
   "outputs": [],
   "source": [
    "#Converting to a dataframe \n",
    "products_per_client_df = pd.DataFrame(data=products_per_client)"
   ]
  },
  {
   "cell_type": "code",
   "execution_count": 28,
   "id": "fitted-danish",
   "metadata": {},
   "outputs": [],
   "source": [
    "products_per_client_df = products_per_client_df.loc[desired_population.index,:]\n",
    "products_per_client_df = products_per_client_df.rename(columns={'CustomerId' : 'Num_of_Products'})"
   ]
  },
  {
   "cell_type": "code",
   "execution_count": 29,
   "id": "neither-spirit",
   "metadata": {},
   "outputs": [
    {
     "data": {
      "text/plain": [
       "(7963, 1)"
      ]
     },
     "execution_count": 29,
     "metadata": {},
     "output_type": "execute_result"
    }
   ],
   "source": [
    "#Let's verify that the number of rows in our new products_per_client dataframe matches the number of rows in our desired_population\n",
    "products_per_client_df.shape"
   ]
  },
  {
   "cell_type": "markdown",
   "id": "juvenile-signal",
   "metadata": {},
   "source": [
    "**b. Transactions dataset ---> Balance in the bank account at the moment of application**"
   ]
  },
  {
   "cell_type": "code",
   "execution_count": 30,
   "id": "precise-limit",
   "metadata": {},
   "outputs": [],
   "source": [
    "# Putting balance of transactions per client into a variable\n",
    "balance = transactions.groupby(['CustomerId'])[['Value']].sum()"
   ]
  },
  {
   "cell_type": "code",
   "execution_count": 31,
   "id": "animal-september",
   "metadata": {},
   "outputs": [],
   "source": [
    "#Convert balance variable into a dataframe\n",
    "balance_df = pd.DataFrame(data=balance)"
   ]
  },
  {
   "cell_type": "code",
   "execution_count": 32,
   "id": "binding-glance",
   "metadata": {},
   "outputs": [],
   "source": [
    "balance_df = balance_df.loc[desired_population.index,:]\n",
    "balance_df = balance_df.rename(columns={'Value' : 'Balance'})"
   ]
  },
  {
   "cell_type": "code",
   "execution_count": 33,
   "id": "unique-berlin",
   "metadata": {},
   "outputs": [
    {
     "data": {
      "text/plain": [
       "(7963, 1)"
      ]
     },
     "execution_count": 33,
     "metadata": {},
     "output_type": "execute_result"
    }
   ],
   "source": [
    "#Verifying that the number of rows in our new balance dataframe matches the number of rows in our modified_filetered_clients.\n",
    "balance_df.shape"
   ]
  },
  {
   "cell_type": "markdown",
   "id": "funded-midwest",
   "metadata": {},
   "source": [
    "**c. Credit Scores dataset ---> Score of the credit bureau at the moment of application. Consider it is a monthly score**"
   ]
  },
  {
   "cell_type": "code",
   "execution_count": 34,
   "id": "valued-chain",
   "metadata": {},
   "outputs": [],
   "source": [
    "desired_population['app_year-month'] = desired_population['application_date'].dt.strftime('%Y-%m')"
   ]
  },
  {
   "cell_type": "code",
   "execution_count": 35,
   "id": "needed-rehabilitation",
   "metadata": {},
   "outputs": [],
   "source": [
    "app_period = pd.DataFrame(desired_population['app_year-month'])"
   ]
  },
  {
   "cell_type": "code",
   "execution_count": 36,
   "id": "former-sampling",
   "metadata": {},
   "outputs": [
    {
     "data": {
      "text/html": [
       "<div>\n",
       "<style scoped>\n",
       "    .dataframe tbody tr th:only-of-type {\n",
       "        vertical-align: middle;\n",
       "    }\n",
       "\n",
       "    .dataframe tbody tr th {\n",
       "        vertical-align: top;\n",
       "    }\n",
       "\n",
       "    .dataframe thead th {\n",
       "        text-align: right;\n",
       "    }\n",
       "</style>\n",
       "<table border=\"1\" class=\"dataframe\">\n",
       "  <thead>\n",
       "    <tr style=\"text-align: right;\">\n",
       "      <th></th>\n",
       "      <th>app_year-month</th>\n",
       "    </tr>\n",
       "    <tr>\n",
       "      <th>CustomerId</th>\n",
       "      <th></th>\n",
       "    </tr>\n",
       "  </thead>\n",
       "  <tbody>\n",
       "    <tr>\n",
       "      <th>15610711</th>\n",
       "      <td>2017-03</td>\n",
       "    </tr>\n",
       "    <tr>\n",
       "      <th>15594720</th>\n",
       "      <td>2017-11</td>\n",
       "    </tr>\n",
       "    <tr>\n",
       "      <th>15706552</th>\n",
       "      <td>2016-02</td>\n",
       "    </tr>\n",
       "    <tr>\n",
       "      <th>15594084</th>\n",
       "      <td>2016-03</td>\n",
       "    </tr>\n",
       "    <tr>\n",
       "      <th>15756871</th>\n",
       "      <td>2015-05</td>\n",
       "    </tr>\n",
       "  </tbody>\n",
       "</table>\n",
       "</div>"
      ],
      "text/plain": [
       "           app_year-month\n",
       "CustomerId               \n",
       "15610711          2017-03\n",
       "15594720          2017-11\n",
       "15706552          2016-02\n",
       "15594084          2016-03\n",
       "15756871          2015-05"
      ]
     },
     "execution_count": 36,
     "metadata": {},
     "output_type": "execute_result"
    }
   ],
   "source": [
    "app_period.head()"
   ]
  },
  {
   "cell_type": "code",
   "execution_count": 37,
   "id": "attended-girlfriend",
   "metadata": {},
   "outputs": [
    {
     "data": {
      "text/plain": [
       "(7963, 1)"
      ]
     },
     "execution_count": 37,
     "metadata": {},
     "output_type": "execute_result"
    }
   ],
   "source": [
    "app_period.shape"
   ]
  },
  {
   "cell_type": "code",
   "execution_count": 38,
   "id": "transparent-element",
   "metadata": {},
   "outputs": [],
   "source": [
    "scores = scores.set_index('CustomerId')\n",
    "scores = scores.loc[desired_population.index, :]"
   ]
  },
  {
   "cell_type": "code",
   "execution_count": 39,
   "id": "statistical-aberdeen",
   "metadata": {},
   "outputs": [
    {
     "data": {
      "text/html": [
       "<div>\n",
       "<style scoped>\n",
       "    .dataframe tbody tr th:only-of-type {\n",
       "        vertical-align: middle;\n",
       "    }\n",
       "\n",
       "    .dataframe tbody tr th {\n",
       "        vertical-align: top;\n",
       "    }\n",
       "\n",
       "    .dataframe thead th {\n",
       "        text-align: right;\n",
       "    }\n",
       "</style>\n",
       "<table border=\"1\" class=\"dataframe\">\n",
       "  <thead>\n",
       "    <tr style=\"text-align: right;\">\n",
       "      <th></th>\n",
       "      <th>Date</th>\n",
       "      <th>Score</th>\n",
       "    </tr>\n",
       "    <tr>\n",
       "      <th>CustomerId</th>\n",
       "      <th></th>\n",
       "      <th></th>\n",
       "    </tr>\n",
       "  </thead>\n",
       "  <tbody>\n",
       "    <tr>\n",
       "      <th>15610711</th>\n",
       "      <td>2016-09</td>\n",
       "      <td>738</td>\n",
       "    </tr>\n",
       "    <tr>\n",
       "      <th>15610711</th>\n",
       "      <td>2017-07</td>\n",
       "      <td>689</td>\n",
       "    </tr>\n",
       "    <tr>\n",
       "      <th>15610711</th>\n",
       "      <td>2017-06</td>\n",
       "      <td>651</td>\n",
       "    </tr>\n",
       "    <tr>\n",
       "      <th>15610711</th>\n",
       "      <td>2016-10</td>\n",
       "      <td>636</td>\n",
       "    </tr>\n",
       "    <tr>\n",
       "      <th>15610711</th>\n",
       "      <td>2017-09</td>\n",
       "      <td>606</td>\n",
       "    </tr>\n",
       "  </tbody>\n",
       "</table>\n",
       "</div>"
      ],
      "text/plain": [
       "               Date  Score\n",
       "CustomerId                \n",
       "15610711    2016-09    738\n",
       "15610711    2017-07    689\n",
       "15610711    2017-06    651\n",
       "15610711    2016-10    636\n",
       "15610711    2017-09    606"
      ]
     },
     "execution_count": 39,
     "metadata": {},
     "output_type": "execute_result"
    }
   ],
   "source": [
    "scores.head()"
   ]
  },
  {
   "cell_type": "code",
   "execution_count": 40,
   "id": "unnecessary-anchor",
   "metadata": {},
   "outputs": [],
   "source": [
    "#Let's define a function so that using our app_period dataframe we can get the score of each customer only for the application period.\n",
    "\n",
    "def get_the_score(row):\n",
    "    score_by_id = scores[scores.index == row.name]\n",
    "    score_by_period = score_by_id[(score_by_id['Date'] == row['app_year-month'])]\n",
    "    return score_by_period['Score'].values[0]"
   ]
  },
  {
   "cell_type": "code",
   "execution_count": 41,
   "id": "negative-black",
   "metadata": {},
   "outputs": [],
   "source": [
    "score = app_period.apply(get_the_score, axis=1,)"
   ]
  },
  {
   "cell_type": "code",
   "execution_count": 42,
   "id": "animated-oasis",
   "metadata": {},
   "outputs": [],
   "source": [
    "score_df = pd.DataFrame(score)\n",
    "score_df = score_df.rename(columns={0 : 'Score'})"
   ]
  },
  {
   "cell_type": "code",
   "execution_count": 43,
   "id": "average-hampton",
   "metadata": {},
   "outputs": [
    {
     "data": {
      "text/html": [
       "<div>\n",
       "<style scoped>\n",
       "    .dataframe tbody tr th:only-of-type {\n",
       "        vertical-align: middle;\n",
       "    }\n",
       "\n",
       "    .dataframe tbody tr th {\n",
       "        vertical-align: top;\n",
       "    }\n",
       "\n",
       "    .dataframe thead th {\n",
       "        text-align: right;\n",
       "    }\n",
       "</style>\n",
       "<table border=\"1\" class=\"dataframe\">\n",
       "  <thead>\n",
       "    <tr style=\"text-align: right;\">\n",
       "      <th></th>\n",
       "      <th>Score</th>\n",
       "    </tr>\n",
       "    <tr>\n",
       "      <th>CustomerId</th>\n",
       "      <th></th>\n",
       "    </tr>\n",
       "  </thead>\n",
       "  <tbody>\n",
       "    <tr>\n",
       "      <th>15610711</th>\n",
       "      <td>678</td>\n",
       "    </tr>\n",
       "    <tr>\n",
       "      <th>15594720</th>\n",
       "      <td>460</td>\n",
       "    </tr>\n",
       "    <tr>\n",
       "      <th>15706552</th>\n",
       "      <td>533</td>\n",
       "    </tr>\n",
       "    <tr>\n",
       "      <th>15594084</th>\n",
       "      <td>524</td>\n",
       "    </tr>\n",
       "    <tr>\n",
       "      <th>15756871</th>\n",
       "      <td>512</td>\n",
       "    </tr>\n",
       "  </tbody>\n",
       "</table>\n",
       "</div>"
      ],
      "text/plain": [
       "            Score\n",
       "CustomerId       \n",
       "15610711      678\n",
       "15594720      460\n",
       "15706552      533\n",
       "15594084      524\n",
       "15756871      512"
      ]
     },
     "execution_count": 43,
     "metadata": {},
     "output_type": "execute_result"
    }
   ],
   "source": [
    "score_df.head()"
   ]
  },
  {
   "cell_type": "code",
   "execution_count": 44,
   "id": "structural-lease",
   "metadata": {},
   "outputs": [
    {
     "data": {
      "text/plain": [
       "(7963, 1)"
      ]
     },
     "execution_count": 44,
     "metadata": {},
     "output_type": "execute_result"
    }
   ],
   "source": [
    "score_df.shape"
   ]
  },
  {
   "cell_type": "code",
   "execution_count": 45,
   "id": "rough-distinction",
   "metadata": {},
   "outputs": [],
   "source": [
    "#Do not forget to drop the additional column we created for matching purposes in our main dataframe (desired_puopulation).\n",
    "desired_population = desired_population.drop('app_year-month', axis=1).copy()"
   ]
  },
  {
   "cell_type": "markdown",
   "id": "israeli-toilet",
   "metadata": {},
   "source": [
    "**d. Clients dataset ---> Age of the client at the moment of application**"
   ]
  },
  {
   "cell_type": "markdown",
   "id": "other-kingston",
   "metadata": {},
   "source": [
    "As we have already converted our clients dataset in our desired population, we will create a new column in our desired population dataframe."
   ]
  },
  {
   "cell_type": "code",
   "execution_count": 46,
   "id": "historic-tracy",
   "metadata": {},
   "outputs": [
    {
     "name": "stdout",
     "output_type": "stream",
     "text": [
      "<class 'pandas.core.frame.DataFrame'>\n",
      "Int64Index: 7963 entries, 15610711 to 15601172\n",
      "Data columns (total 9 columns):\n",
      " #   Column            Non-Null Count  Dtype         \n",
      "---  ------            --------------  -----         \n",
      " 0   Surname           7963 non-null   object        \n",
      " 1   Geography         7963 non-null   object        \n",
      " 2   Gender            7963 non-null   object        \n",
      " 3   HasCrCard         7963 non-null   float64       \n",
      " 4   IsActiveMember    7963 non-null   float64       \n",
      " 5   EstimatedSalary   7963 non-null   float64       \n",
      " 6   application_date  7963 non-null   datetime64[ns]\n",
      " 7   exit_date         7963 non-null   datetime64[ns]\n",
      " 8   birth_date        7963 non-null   object        \n",
      "dtypes: datetime64[ns](2), float64(3), object(4)\n",
      "memory usage: 622.1+ KB\n"
     ]
    }
   ],
   "source": [
    "desired_population.info()"
   ]
  },
  {
   "cell_type": "code",
   "execution_count": 47,
   "id": "suited-diesel",
   "metadata": {},
   "outputs": [],
   "source": [
    "# We need to convert our birth_date column into a datetime type\n",
    "desired_population['birth_date'] = desired_population['birth_date'].apply(pd.to_datetime).copy()"
   ]
  },
  {
   "cell_type": "code",
   "execution_count": 48,
   "id": "lesser-possession",
   "metadata": {},
   "outputs": [],
   "source": [
    "# Let's get the difference in number of days between birth_date and application_date\n",
    "desired_population['age_by_application'] = (desired_population['application_date'] - desired_population['birth_date']).dt.days"
   ]
  },
  {
   "cell_type": "code",
   "execution_count": 49,
   "id": "closing-truck",
   "metadata": {},
   "outputs": [],
   "source": [
    "#Now let's get the age (when client bought the product)\n",
    "desired_population['age_by_application'] = (desired_population['age_by_application']/365)"
   ]
  },
  {
   "cell_type": "code",
   "execution_count": 50,
   "id": "experimental-sheep",
   "metadata": {},
   "outputs": [],
   "source": [
    "desired_population['age_by_application'] = desired_population['age_by_application'].astype(int)"
   ]
  },
  {
   "cell_type": "code",
   "execution_count": 51,
   "id": "brief-firmware",
   "metadata": {},
   "outputs": [
    {
     "data": {
      "text/html": [
       "<div>\n",
       "<style scoped>\n",
       "    .dataframe tbody tr th:only-of-type {\n",
       "        vertical-align: middle;\n",
       "    }\n",
       "\n",
       "    .dataframe tbody tr th {\n",
       "        vertical-align: top;\n",
       "    }\n",
       "\n",
       "    .dataframe thead th {\n",
       "        text-align: right;\n",
       "    }\n",
       "</style>\n",
       "<table border=\"1\" class=\"dataframe\">\n",
       "  <thead>\n",
       "    <tr style=\"text-align: right;\">\n",
       "      <th></th>\n",
       "      <th>Surname</th>\n",
       "      <th>Geography</th>\n",
       "      <th>Gender</th>\n",
       "      <th>HasCrCard</th>\n",
       "      <th>IsActiveMember</th>\n",
       "      <th>EstimatedSalary</th>\n",
       "      <th>application_date</th>\n",
       "      <th>exit_date</th>\n",
       "      <th>birth_date</th>\n",
       "      <th>age_by_application</th>\n",
       "    </tr>\n",
       "    <tr>\n",
       "      <th>CustomerId</th>\n",
       "      <th></th>\n",
       "      <th></th>\n",
       "      <th></th>\n",
       "      <th></th>\n",
       "      <th></th>\n",
       "      <th></th>\n",
       "      <th></th>\n",
       "      <th></th>\n",
       "      <th></th>\n",
       "      <th></th>\n",
       "    </tr>\n",
       "  </thead>\n",
       "  <tbody>\n",
       "    <tr>\n",
       "      <th>15610711</th>\n",
       "      <td>Eluemuno</td>\n",
       "      <td>Germany</td>\n",
       "      <td>Female</td>\n",
       "      <td>0.0</td>\n",
       "      <td>0.0</td>\n",
       "      <td>167673.37</td>\n",
       "      <td>2017-03-05</td>\n",
       "      <td>2019-11-27</td>\n",
       "      <td>1976-10-21</td>\n",
       "      <td>40</td>\n",
       "    </tr>\n",
       "    <tr>\n",
       "      <th>15594720</th>\n",
       "      <td>Scott</td>\n",
       "      <td>Germany</td>\n",
       "      <td>Female</td>\n",
       "      <td>1.0</td>\n",
       "      <td>1.0</td>\n",
       "      <td>189339.60</td>\n",
       "      <td>2017-11-08</td>\n",
       "      <td>2019-11-30</td>\n",
       "      <td>1982-05-14</td>\n",
       "      <td>35</td>\n",
       "    </tr>\n",
       "    <tr>\n",
       "      <th>15706552</th>\n",
       "      <td>Odinakachukwu</td>\n",
       "      <td>France</td>\n",
       "      <td>Male</td>\n",
       "      <td>0.0</td>\n",
       "      <td>1.0</td>\n",
       "      <td>156731.91</td>\n",
       "      <td>2016-02-15</td>\n",
       "      <td>2019-10-02</td>\n",
       "      <td>1979-09-09</td>\n",
       "      <td>36</td>\n",
       "    </tr>\n",
       "    <tr>\n",
       "      <th>15594084</th>\n",
       "      <td>Anderson</td>\n",
       "      <td>France</td>\n",
       "      <td>Male</td>\n",
       "      <td>1.0</td>\n",
       "      <td>0.0</td>\n",
       "      <td>74405.34</td>\n",
       "      <td>2016-03-17</td>\n",
       "      <td>2019-09-07</td>\n",
       "      <td>1993-06-08</td>\n",
       "      <td>22</td>\n",
       "    </tr>\n",
       "    <tr>\n",
       "      <th>15756871</th>\n",
       "      <td>Capon</td>\n",
       "      <td>Spain</td>\n",
       "      <td>Male</td>\n",
       "      <td>1.0</td>\n",
       "      <td>0.0</td>\n",
       "      <td>134878.19</td>\n",
       "      <td>2015-05-20</td>\n",
       "      <td>2018-04-29</td>\n",
       "      <td>1976-04-20</td>\n",
       "      <td>39</td>\n",
       "    </tr>\n",
       "  </tbody>\n",
       "</table>\n",
       "</div>"
      ],
      "text/plain": [
       "                  Surname Geography  Gender  HasCrCard  IsActiveMember  \\\n",
       "CustomerId                                                               \n",
       "15610711         Eluemuno   Germany  Female        0.0             0.0   \n",
       "15594720            Scott   Germany  Female        1.0             1.0   \n",
       "15706552    Odinakachukwu    France    Male        0.0             1.0   \n",
       "15594084         Anderson    France    Male        1.0             0.0   \n",
       "15756871            Capon     Spain    Male        1.0             0.0   \n",
       "\n",
       "            EstimatedSalary application_date  exit_date birth_date  \\\n",
       "CustomerId                                                           \n",
       "15610711          167673.37       2017-03-05 2019-11-27 1976-10-21   \n",
       "15594720          189339.60       2017-11-08 2019-11-30 1982-05-14   \n",
       "15706552          156731.91       2016-02-15 2019-10-02 1979-09-09   \n",
       "15594084           74405.34       2016-03-17 2019-09-07 1993-06-08   \n",
       "15756871          134878.19       2015-05-20 2018-04-29 1976-04-20   \n",
       "\n",
       "            age_by_application  \n",
       "CustomerId                      \n",
       "15610711                    40  \n",
       "15594720                    35  \n",
       "15706552                    36  \n",
       "15594084                    22  \n",
       "15756871                    39  "
      ]
     },
     "execution_count": 51,
     "metadata": {},
     "output_type": "execute_result"
    }
   ],
   "source": [
    "desired_population.head()"
   ]
  },
  {
   "cell_type": "markdown",
   "id": "downtown-brick",
   "metadata": {},
   "source": [
    "**5. Exploratory Data Analysis**"
   ]
  },
  {
   "cell_type": "markdown",
   "id": "colored-sense",
   "metadata": {},
   "source": [
    "**Joining clean data and new variables**"
   ]
  },
  {
   "cell_type": "code",
   "execution_count": 52,
   "id": "ultimate-broad",
   "metadata": {},
   "outputs": [],
   "source": [
    "concat_data = pd.concat([desired_population, products_per_client_df, balance_df, score_df], axis=1, join ='inner')"
   ]
  },
  {
   "cell_type": "code",
   "execution_count": 53,
   "id": "first-ceramic",
   "metadata": {},
   "outputs": [],
   "source": [
    "#Drop columns that will not be helpful for Modeling.Some of them have already been useful for new variable creation.\n",
    "concat_data = concat_data.drop(labels = ['Surname','application_date', 'exit_date', 'birth_date'], axis=1).copy()"
   ]
  },
  {
   "cell_type": "code",
   "execution_count": 54,
   "id": "aggregate-clause",
   "metadata": {},
   "outputs": [
    {
     "data": {
      "text/html": [
       "<div>\n",
       "<style scoped>\n",
       "    .dataframe tbody tr th:only-of-type {\n",
       "        vertical-align: middle;\n",
       "    }\n",
       "\n",
       "    .dataframe tbody tr th {\n",
       "        vertical-align: top;\n",
       "    }\n",
       "\n",
       "    .dataframe thead th {\n",
       "        text-align: right;\n",
       "    }\n",
       "</style>\n",
       "<table border=\"1\" class=\"dataframe\">\n",
       "  <thead>\n",
       "    <tr style=\"text-align: right;\">\n",
       "      <th></th>\n",
       "      <th>Geography</th>\n",
       "      <th>Gender</th>\n",
       "      <th>HasCrCard</th>\n",
       "      <th>IsActiveMember</th>\n",
       "      <th>EstimatedSalary</th>\n",
       "      <th>age_by_application</th>\n",
       "      <th>Num_of_Products</th>\n",
       "      <th>Balance</th>\n",
       "      <th>Score</th>\n",
       "    </tr>\n",
       "    <tr>\n",
       "      <th>CustomerId</th>\n",
       "      <th></th>\n",
       "      <th></th>\n",
       "      <th></th>\n",
       "      <th></th>\n",
       "      <th></th>\n",
       "      <th></th>\n",
       "      <th></th>\n",
       "      <th></th>\n",
       "      <th></th>\n",
       "    </tr>\n",
       "  </thead>\n",
       "  <tbody>\n",
       "    <tr>\n",
       "      <th>15610711</th>\n",
       "      <td>Germany</td>\n",
       "      <td>Female</td>\n",
       "      <td>0.0</td>\n",
       "      <td>0.0</td>\n",
       "      <td>167673.37</td>\n",
       "      <td>40</td>\n",
       "      <td>1</td>\n",
       "      <td>1.286445e+05</td>\n",
       "      <td>678</td>\n",
       "    </tr>\n",
       "    <tr>\n",
       "      <th>15594720</th>\n",
       "      <td>Germany</td>\n",
       "      <td>Female</td>\n",
       "      <td>1.0</td>\n",
       "      <td>1.0</td>\n",
       "      <td>189339.60</td>\n",
       "      <td>35</td>\n",
       "      <td>2</td>\n",
       "      <td>1.027429e+05</td>\n",
       "      <td>460</td>\n",
       "    </tr>\n",
       "    <tr>\n",
       "      <th>15706552</th>\n",
       "      <td>France</td>\n",
       "      <td>Male</td>\n",
       "      <td>0.0</td>\n",
       "      <td>1.0</td>\n",
       "      <td>156731.91</td>\n",
       "      <td>36</td>\n",
       "      <td>1</td>\n",
       "      <td>8.531170e+04</td>\n",
       "      <td>533</td>\n",
       "    </tr>\n",
       "    <tr>\n",
       "      <th>15594084</th>\n",
       "      <td>France</td>\n",
       "      <td>Male</td>\n",
       "      <td>1.0</td>\n",
       "      <td>0.0</td>\n",
       "      <td>74405.34</td>\n",
       "      <td>22</td>\n",
       "      <td>2</td>\n",
       "      <td>4.547474e-13</td>\n",
       "      <td>524</td>\n",
       "    </tr>\n",
       "    <tr>\n",
       "      <th>15756871</th>\n",
       "      <td>Spain</td>\n",
       "      <td>Male</td>\n",
       "      <td>1.0</td>\n",
       "      <td>0.0</td>\n",
       "      <td>134878.19</td>\n",
       "      <td>39</td>\n",
       "      <td>1</td>\n",
       "      <td>0.000000e+00</td>\n",
       "      <td>512</td>\n",
       "    </tr>\n",
       "  </tbody>\n",
       "</table>\n",
       "</div>"
      ],
      "text/plain": [
       "           Geography  Gender  HasCrCard  IsActiveMember  EstimatedSalary  \\\n",
       "CustomerId                                                                 \n",
       "15610711     Germany  Female        0.0             0.0        167673.37   \n",
       "15594720     Germany  Female        1.0             1.0        189339.60   \n",
       "15706552      France    Male        0.0             1.0        156731.91   \n",
       "15594084      France    Male        1.0             0.0         74405.34   \n",
       "15756871       Spain    Male        1.0             0.0        134878.19   \n",
       "\n",
       "            age_by_application  Num_of_Products       Balance  Score  \n",
       "CustomerId                                                            \n",
       "15610711                    40                1  1.286445e+05    678  \n",
       "15594720                    35                2  1.027429e+05    460  \n",
       "15706552                    36                1  8.531170e+04    533  \n",
       "15594084                    22                2  4.547474e-13    524  \n",
       "15756871                    39                1  0.000000e+00    512  "
      ]
     },
     "execution_count": 54,
     "metadata": {},
     "output_type": "execute_result"
    }
   ],
   "source": [
    "concat_data.head()"
   ]
  },
  {
   "cell_type": "markdown",
   "id": "attended-mumbai",
   "metadata": {},
   "source": [
    "**Descriptive Statistics**"
   ]
  },
  {
   "cell_type": "code",
   "execution_count": 55,
   "id": "ancient-halloween",
   "metadata": {},
   "outputs": [
    {
     "data": {
      "text/html": [
       "<div>\n",
       "<style scoped>\n",
       "    .dataframe tbody tr th:only-of-type {\n",
       "        vertical-align: middle;\n",
       "    }\n",
       "\n",
       "    .dataframe tbody tr th {\n",
       "        vertical-align: top;\n",
       "    }\n",
       "\n",
       "    .dataframe thead th {\n",
       "        text-align: right;\n",
       "    }\n",
       "</style>\n",
       "<table border=\"1\" class=\"dataframe\">\n",
       "  <thead>\n",
       "    <tr style=\"text-align: right;\">\n",
       "      <th></th>\n",
       "      <th>HasCrCard</th>\n",
       "      <th>IsActiveMember</th>\n",
       "      <th>EstimatedSalary</th>\n",
       "      <th>age_by_application</th>\n",
       "      <th>Num_of_Products</th>\n",
       "      <th>Balance</th>\n",
       "      <th>Score</th>\n",
       "    </tr>\n",
       "  </thead>\n",
       "  <tbody>\n",
       "    <tr>\n",
       "      <th>count</th>\n",
       "      <td>7963.000000</td>\n",
       "      <td>7963.000000</td>\n",
       "      <td>7963.000000</td>\n",
       "      <td>7963.000000</td>\n",
       "      <td>7963.000000</td>\n",
       "      <td>7.963000e+03</td>\n",
       "      <td>7963.000000</td>\n",
       "    </tr>\n",
       "    <tr>\n",
       "      <th>mean</th>\n",
       "      <td>0.707146</td>\n",
       "      <td>0.554565</td>\n",
       "      <td>99738.391772</td>\n",
       "      <td>37.408640</td>\n",
       "      <td>1.544267</td>\n",
       "      <td>7.274530e+04</td>\n",
       "      <td>651.853196</td>\n",
       "    </tr>\n",
       "    <tr>\n",
       "      <th>std</th>\n",
       "      <td>0.455101</td>\n",
       "      <td>0.497045</td>\n",
       "      <td>57405.586966</td>\n",
       "      <td>10.126333</td>\n",
       "      <td>0.509536</td>\n",
       "      <td>6.284804e+04</td>\n",
       "      <td>95.653837</td>\n",
       "    </tr>\n",
       "    <tr>\n",
       "      <th>min</th>\n",
       "      <td>0.000000</td>\n",
       "      <td>0.000000</td>\n",
       "      <td>90.070000</td>\n",
       "      <td>18.000000</td>\n",
       "      <td>1.000000</td>\n",
       "      <td>-1.477929e-12</td>\n",
       "      <td>405.000000</td>\n",
       "    </tr>\n",
       "    <tr>\n",
       "      <th>25%</th>\n",
       "      <td>0.000000</td>\n",
       "      <td>0.000000</td>\n",
       "      <td>50783.490000</td>\n",
       "      <td>31.000000</td>\n",
       "      <td>1.000000</td>\n",
       "      <td>0.000000e+00</td>\n",
       "      <td>585.000000</td>\n",
       "    </tr>\n",
       "    <tr>\n",
       "      <th>50%</th>\n",
       "      <td>1.000000</td>\n",
       "      <td>1.000000</td>\n",
       "      <td>99645.040000</td>\n",
       "      <td>36.000000</td>\n",
       "      <td>2.000000</td>\n",
       "      <td>9.207268e+04</td>\n",
       "      <td>653.000000</td>\n",
       "    </tr>\n",
       "    <tr>\n",
       "      <th>75%</th>\n",
       "      <td>1.000000</td>\n",
       "      <td>1.000000</td>\n",
       "      <td>148609.955000</td>\n",
       "      <td>41.000000</td>\n",
       "      <td>2.000000</td>\n",
       "      <td>1.264103e+05</td>\n",
       "      <td>718.000000</td>\n",
       "    </tr>\n",
       "    <tr>\n",
       "      <th>max</th>\n",
       "      <td>1.000000</td>\n",
       "      <td>1.000000</td>\n",
       "      <td>199992.480000</td>\n",
       "      <td>92.000000</td>\n",
       "      <td>3.000000</td>\n",
       "      <td>2.215328e+05</td>\n",
       "      <td>850.000000</td>\n",
       "    </tr>\n",
       "  </tbody>\n",
       "</table>\n",
       "</div>"
      ],
      "text/plain": [
       "         HasCrCard  IsActiveMember  EstimatedSalary  age_by_application  \\\n",
       "count  7963.000000     7963.000000      7963.000000         7963.000000   \n",
       "mean      0.707146        0.554565     99738.391772           37.408640   \n",
       "std       0.455101        0.497045     57405.586966           10.126333   \n",
       "min       0.000000        0.000000        90.070000           18.000000   \n",
       "25%       0.000000        0.000000     50783.490000           31.000000   \n",
       "50%       1.000000        1.000000     99645.040000           36.000000   \n",
       "75%       1.000000        1.000000    148609.955000           41.000000   \n",
       "max       1.000000        1.000000    199992.480000           92.000000   \n",
       "\n",
       "       Num_of_Products       Balance        Score  \n",
       "count      7963.000000  7.963000e+03  7963.000000  \n",
       "mean          1.544267  7.274530e+04   651.853196  \n",
       "std           0.509536  6.284804e+04    95.653837  \n",
       "min           1.000000 -1.477929e-12   405.000000  \n",
       "25%           1.000000  0.000000e+00   585.000000  \n",
       "50%           2.000000  9.207268e+04   653.000000  \n",
       "75%           2.000000  1.264103e+05   718.000000  \n",
       "max           3.000000  2.215328e+05   850.000000  "
      ]
     },
     "execution_count": 55,
     "metadata": {},
     "output_type": "execute_result"
    }
   ],
   "source": [
    "concat_data.describe()"
   ]
  },
  {
   "cell_type": "markdown",
   "id": "enhanced-metadata",
   "metadata": {},
   "source": [
    "According to the statistics, all the numerical variables seem logical. There is only one column that seems to have outliers. It is EstimatedSalary as the minimum number is 90 while its mean number is 99,738. It is a feature that we should also consider normalizing to have a better model performance. "
   ]
  },
  {
   "cell_type": "code",
   "execution_count": 56,
   "id": "decimal-hearts",
   "metadata": {},
   "outputs": [],
   "source": [
    "concat_data['Balance'] = concat_data['Balance'].astype(int)"
   ]
  },
  {
   "cell_type": "code",
   "execution_count": 57,
   "id": "oriented-blame",
   "metadata": {},
   "outputs": [],
   "source": [
    "#Let's separate our features from our target variable.\n",
    "target = concat_data['IsActiveMember']\n",
    "features = concat_data.drop('IsActiveMember', axis=1).copy()"
   ]
  },
  {
   "cell_type": "markdown",
   "id": "renewable-playback",
   "metadata": {},
   "source": [
    "**Analizing Suspected Outliers**"
   ]
  },
  {
   "cell_type": "code",
   "execution_count": 58,
   "id": "metropolitan-unemployment",
   "metadata": {},
   "outputs": [
    {
     "name": "stdout",
     "output_type": "stream",
     "text": [
      "The upper & lower bounds for suspected outliers are 295350.0 and -95956.0.\n"
     ]
    }
   ],
   "source": [
    "#We will begin by solving the outliers in 'EstimatedSalary'\n",
    "stat= features['EstimatedSalary'].describe()\n",
    "\n",
    "IQR = stat['75%']-stat['25%']\n",
    "upper = stat['75%'] + 1.5*IQR\n",
    "lower = stat['25%'] - 1.5*IQR\n",
    "print('The upper & lower bounds for suspected outliers are {} and {}.'.format(upper.round(),lower.round()))"
   ]
  },
  {
   "cell_type": "code",
   "execution_count": 59,
   "id": "regional-brain",
   "metadata": {},
   "outputs": [
    {
     "data": {
      "text/plain": [
       "Text(0.5, 1.0, 'Looking for outliers in Estimated Salary')"
      ]
     },
     "execution_count": 59,
     "metadata": {},
     "output_type": "execute_result"
    },
    {
     "data": {
      "image/png": "[encoded data removed]",
      "text/plain": [
       "<Figure size 432x432 with 1 Axes>"
      ]
     },
     "metadata": {
      "needs_background": "light"
     },
     "output_type": "display_data"
    }
   ],
   "source": [
    "plt.figure(figsize=(6,6))\n",
    "sns.boxplot(y= features['EstimatedSalary'])\n",
    "plt.title('Looking for outliers in Estimated Salary')\n"
   ]
  },
  {
   "cell_type": "markdown",
   "id": "white-butter",
   "metadata": {},
   "source": [
    "According to this bounds using the IQR, the values we considered outliers should NOT be eliminated."
   ]
  },
  {
   "cell_type": "markdown",
   "id": "mounted-month",
   "metadata": {},
   "source": [
    "**Distribution of Active Members**"
   ]
  },
  {
   "cell_type": "code",
   "execution_count": 60,
   "id": "awful-dining",
   "metadata": {},
   "outputs": [
    {
     "data": {
      "image/png": "[encoded data removed]",
      "text/plain": [
       "<Figure size 432x288 with 1 Axes>"
      ]
     },
     "metadata": {
      "needs_background": "light"
     },
     "output_type": "display_data"
    }
   ],
   "source": [
    "#Let's first visualize the distribution of our target variable.\n",
    "\n",
    "sns.countplot(x=target)\n",
    "plt.title('Distribution of active members')\n",
    "plt.show()"
   ]
  },
  {
   "cell_type": "markdown",
   "id": "demographic-adelaide",
   "metadata": {},
   "source": [
    "As we can see there are no unknow values. And it is a balanced dataset.\n",
    "\n",
    "**Categorical Variables**"
   ]
  },
  {
   "cell_type": "code",
   "execution_count": 61,
   "id": "clean-pierce",
   "metadata": {},
   "outputs": [],
   "source": [
    "def countplot_feature_vs_isactive(var,y):\n",
    "    fig = plt.figure(figsize=(10,6))\n",
    "    plot=sns.countplot(x=var,data=features,hue=y)\n",
    "    plt.show()"
   ]
  },
  {
   "cell_type": "code",
   "execution_count": 62,
   "id": "thick-connection",
   "metadata": {},
   "outputs": [
    {
     "data": {
      "image/png": "[encoded data removed]",
      "text/plain": [
       "<Figure size 720x432 with 1 Axes>"
      ]
     },
     "metadata": {
      "needs_background": "light"
     },
     "output_type": "display_data"
    }
   ],
   "source": [
    "#Let's see the distribution of active members in men and women.\n",
    "countplot_feature_vs_isactive('Gender', target)"
   ]
  },
  {
   "cell_type": "code",
   "execution_count": 63,
   "id": "changing-session",
   "metadata": {},
   "outputs": [
    {
     "data": {
      "image/png": "[encoded data removed]",
      "text/plain": [
       "<Figure size 720x432 with 1 Axes>"
      ]
     },
     "metadata": {
      "needs_background": "light"
     },
     "output_type": "display_data"
    }
   ],
   "source": [
    "#Let's see the distribution of active members in each country where we have operations.\n",
    "countplot_feature_vs_isactive('Geography', target)"
   ]
  },
  {
   "cell_type": "code",
   "execution_count": 64,
   "id": "corresponding-defendant",
   "metadata": {},
   "outputs": [
    {
     "data": {
      "image/png": "[encoded data removed]",
      "text/plain": [
       "<Figure size 720x432 with 1 Axes>"
      ]
     },
     "metadata": {
      "needs_background": "light"
     },
     "output_type": "display_data"
    }
   ],
   "source": [
    "#Let's see the distribution of active members in people who have a crecit card and the one who don't.\n",
    "countplot_feature_vs_isactive('HasCrCard', target)"
   ]
  },
  {
   "cell_type": "markdown",
   "id": "prospective-boost",
   "metadata": {},
   "source": [
    "**Numerical Variables**"
   ]
  },
  {
   "cell_type": "markdown",
   "id": "consolidated-economics",
   "metadata": {},
   "source": [
    "Finally to keep it concise, we will only visualize the numerical variables by adding them to a heatmap"
   ]
  },
  {
   "cell_type": "code",
   "execution_count": 65,
   "id": "hired-karma",
   "metadata": {},
   "outputs": [],
   "source": [
    "num_cols = features.select_dtypes(['int', 'float']).columns"
   ]
  },
  {
   "cell_type": "code",
   "execution_count": 66,
   "id": "jewish-warner",
   "metadata": {},
   "outputs": [
    {
     "data": {
      "image/png": "[encoded data removed]",
      "text/plain": [
       "<Figure size 864x720 with 2 Axes>"
      ]
     },
     "metadata": {
      "needs_background": "light"
     },
     "output_type": "display_data"
    }
   ],
   "source": [
    "fig = plt.figure(figsize=(12,10))\n",
    "cor_matrix = pd.concat([features[num_cols]], axis = 1).corr()\n",
    "sns.heatmap(cor_matrix)\n",
    "plt.show()"
   ]
  },
  {
   "cell_type": "markdown",
   "id": "fantastic-playing",
   "metadata": {},
   "source": [
    "We can see there is a strong negative relation between Balance and Number of Products per client (both at the moment of application), which means the more money client had on its bank account at the moment of application, the less products client had."
   ]
  },
  {
   "cell_type": "markdown",
   "id": "breeding-chicken",
   "metadata": {},
   "source": [
    "**Encoding Geography and Gender**"
   ]
  },
  {
   "cell_type": "code",
   "execution_count": 67,
   "id": "mobile-debut",
   "metadata": {},
   "outputs": [],
   "source": [
    "features = pd.get_dummies(features, columns = ['Geography', 'Gender'])"
   ]
  },
  {
   "cell_type": "markdown",
   "id": "hundred-librarian",
   "metadata": {},
   "source": [
    "**Feature Scaling for a better model performance**"
   ]
  },
  {
   "cell_type": "code",
   "execution_count": 68,
   "id": "built-progressive",
   "metadata": {},
   "outputs": [
    {
     "data": {
      "text/html": [
       "<div>\n",
       "<style scoped>\n",
       "    .dataframe tbody tr th:only-of-type {\n",
       "        vertical-align: middle;\n",
       "    }\n",
       "\n",
       "    .dataframe tbody tr th {\n",
       "        vertical-align: top;\n",
       "    }\n",
       "\n",
       "    .dataframe thead th {\n",
       "        text-align: right;\n",
       "    }\n",
       "</style>\n",
       "<table border=\"1\" class=\"dataframe\">\n",
       "  <thead>\n",
       "    <tr style=\"text-align: right;\">\n",
       "      <th></th>\n",
       "      <th>HasCrCard</th>\n",
       "      <th>EstimatedSalary</th>\n",
       "      <th>age_by_application</th>\n",
       "      <th>Num_of_Products</th>\n",
       "      <th>Balance</th>\n",
       "      <th>Score</th>\n",
       "      <th>Geography_France</th>\n",
       "      <th>Geography_Germany</th>\n",
       "      <th>Geography_Spain</th>\n",
       "      <th>Gender_Female</th>\n",
       "      <th>Gender_Male</th>\n",
       "    </tr>\n",
       "    <tr>\n",
       "      <th>CustomerId</th>\n",
       "      <th></th>\n",
       "      <th></th>\n",
       "      <th></th>\n",
       "      <th></th>\n",
       "      <th></th>\n",
       "      <th></th>\n",
       "      <th></th>\n",
       "      <th></th>\n",
       "      <th></th>\n",
       "      <th></th>\n",
       "      <th></th>\n",
       "    </tr>\n",
       "  </thead>\n",
       "  <tbody>\n",
       "    <tr>\n",
       "      <th>15610711</th>\n",
       "      <td>0.0</td>\n",
       "      <td>0.838326</td>\n",
       "      <td>0.297297</td>\n",
       "      <td>1</td>\n",
       "      <td>0.580702</td>\n",
       "      <td>0.613483</td>\n",
       "      <td>0</td>\n",
       "      <td>1</td>\n",
       "      <td>0</td>\n",
       "      <td>1</td>\n",
       "      <td>0</td>\n",
       "    </tr>\n",
       "    <tr>\n",
       "      <th>15594720</th>\n",
       "      <td>1.0</td>\n",
       "      <td>0.946710</td>\n",
       "      <td>0.229730</td>\n",
       "      <td>2</td>\n",
       "      <td>0.463779</td>\n",
       "      <td>0.123596</td>\n",
       "      <td>0</td>\n",
       "      <td>1</td>\n",
       "      <td>0</td>\n",
       "      <td>1</td>\n",
       "      <td>0</td>\n",
       "    </tr>\n",
       "    <tr>\n",
       "      <th>15706552</th>\n",
       "      <td>0.0</td>\n",
       "      <td>0.783592</td>\n",
       "      <td>0.243243</td>\n",
       "      <td>1</td>\n",
       "      <td>0.385096</td>\n",
       "      <td>0.287640</td>\n",
       "      <td>1</td>\n",
       "      <td>0</td>\n",
       "      <td>0</td>\n",
       "      <td>0</td>\n",
       "      <td>1</td>\n",
       "    </tr>\n",
       "    <tr>\n",
       "      <th>15594084</th>\n",
       "      <td>1.0</td>\n",
       "      <td>0.371758</td>\n",
       "      <td>0.054054</td>\n",
       "      <td>2</td>\n",
       "      <td>0.000000</td>\n",
       "      <td>0.267416</td>\n",
       "      <td>1</td>\n",
       "      <td>0</td>\n",
       "      <td>0</td>\n",
       "      <td>0</td>\n",
       "      <td>1</td>\n",
       "    </tr>\n",
       "    <tr>\n",
       "      <th>15756871</th>\n",
       "      <td>1.0</td>\n",
       "      <td>0.674270</td>\n",
       "      <td>0.283784</td>\n",
       "      <td>1</td>\n",
       "      <td>0.000000</td>\n",
       "      <td>0.240449</td>\n",
       "      <td>0</td>\n",
       "      <td>0</td>\n",
       "      <td>1</td>\n",
       "      <td>0</td>\n",
       "      <td>1</td>\n",
       "    </tr>\n",
       "    <tr>\n",
       "      <th>...</th>\n",
       "      <td>...</td>\n",
       "      <td>...</td>\n",
       "      <td>...</td>\n",
       "      <td>...</td>\n",
       "      <td>...</td>\n",
       "      <td>...</td>\n",
       "      <td>...</td>\n",
       "      <td>...</td>\n",
       "      <td>...</td>\n",
       "      <td>...</td>\n",
       "      <td>...</td>\n",
       "    </tr>\n",
       "    <tr>\n",
       "      <th>15613180</th>\n",
       "      <td>1.0</td>\n",
       "      <td>0.816427</td>\n",
       "      <td>0.040541</td>\n",
       "      <td>1</td>\n",
       "      <td>0.692198</td>\n",
       "      <td>0.723596</td>\n",
       "      <td>0</td>\n",
       "      <td>1</td>\n",
       "      <td>0</td>\n",
       "      <td>0</td>\n",
       "      <td>1</td>\n",
       "    </tr>\n",
       "    <tr>\n",
       "      <th>15689152</th>\n",
       "      <td>0.0</td>\n",
       "      <td>0.076481</td>\n",
       "      <td>0.270270</td>\n",
       "      <td>1</td>\n",
       "      <td>0.569453</td>\n",
       "      <td>0.624719</td>\n",
       "      <td>0</td>\n",
       "      <td>0</td>\n",
       "      <td>1</td>\n",
       "      <td>0</td>\n",
       "      <td>1</td>\n",
       "    </tr>\n",
       "    <tr>\n",
       "      <th>15787204</th>\n",
       "      <td>0.0</td>\n",
       "      <td>0.543836</td>\n",
       "      <td>0.337838</td>\n",
       "      <td>1</td>\n",
       "      <td>0.499458</td>\n",
       "      <td>0.829213</td>\n",
       "      <td>0</td>\n",
       "      <td>0</td>\n",
       "      <td>1</td>\n",
       "      <td>1</td>\n",
       "      <td>0</td>\n",
       "    </tr>\n",
       "    <tr>\n",
       "      <th>15778320</th>\n",
       "      <td>0.0</td>\n",
       "      <td>0.794207</td>\n",
       "      <td>0.297297</td>\n",
       "      <td>1</td>\n",
       "      <td>0.670309</td>\n",
       "      <td>0.995506</td>\n",
       "      <td>0</td>\n",
       "      <td>1</td>\n",
       "      <td>0</td>\n",
       "      <td>1</td>\n",
       "      <td>0</td>\n",
       "    </tr>\n",
       "    <tr>\n",
       "      <th>15601172</th>\n",
       "      <td>1.0</td>\n",
       "      <td>0.886462</td>\n",
       "      <td>0.175676</td>\n",
       "      <td>1</td>\n",
       "      <td>0.411340</td>\n",
       "      <td>0.600000</td>\n",
       "      <td>1</td>\n",
       "      <td>0</td>\n",
       "      <td>0</td>\n",
       "      <td>0</td>\n",
       "      <td>1</td>\n",
       "    </tr>\n",
       "  </tbody>\n",
       "</table>\n",
       "<p>7963 rows × 11 columns</p>\n",
       "</div>"
      ],
      "text/plain": [
       "            HasCrCard  EstimatedSalary  age_by_application  Num_of_Products  \\\n",
       "CustomerId                                                                    \n",
       "15610711          0.0         0.838326            0.297297                1   \n",
       "15594720          1.0         0.946710            0.229730                2   \n",
       "15706552          0.0         0.783592            0.243243                1   \n",
       "15594084          1.0         0.371758            0.054054                2   \n",
       "15756871          1.0         0.674270            0.283784                1   \n",
       "...               ...              ...                 ...              ...   \n",
       "15613180          1.0         0.816427            0.040541                1   \n",
       "15689152          0.0         0.076481            0.270270                1   \n",
       "15787204          0.0         0.543836            0.337838                1   \n",
       "15778320          0.0         0.794207            0.297297                1   \n",
       "15601172          1.0         0.886462            0.175676                1   \n",
       "\n",
       "             Balance     Score  Geography_France  Geography_Germany  \\\n",
       "CustomerId                                                            \n",
       "15610711    0.580702  0.613483                 0                  1   \n",
       "15594720    0.463779  0.123596                 0                  1   \n",
       "15706552    0.385096  0.287640                 1                  0   \n",
       "15594084    0.000000  0.267416                 1                  0   \n",
       "15756871    0.000000  0.240449                 0                  0   \n",
       "...              ...       ...               ...                ...   \n",
       "15613180    0.692198  0.723596                 0                  1   \n",
       "15689152    0.569453  0.624719                 0                  0   \n",
       "15787204    0.499458  0.829213                 0                  0   \n",
       "15778320    0.670309  0.995506                 0                  1   \n",
       "15601172    0.411340  0.600000                 1                  0   \n",
       "\n",
       "            Geography_Spain  Gender_Female  Gender_Male  \n",
       "CustomerId                                               \n",
       "15610711                  0              1            0  \n",
       "15594720                  0              1            0  \n",
       "15706552                  0              0            1  \n",
       "15594084                  0              0            1  \n",
       "15756871                  1              0            1  \n",
       "...                     ...            ...          ...  \n",
       "15613180                  0              0            1  \n",
       "15689152                  1              0            1  \n",
       "15787204                  1              1            0  \n",
       "15778320                  0              1            0  \n",
       "15601172                  0              0            1  \n",
       "\n",
       "[7963 rows x 11 columns]"
      ]
     },
     "metadata": {},
     "output_type": "display_data"
    }
   ],
   "source": [
    "scaled_df = features.copy()\n",
    "  \n",
    "# apply normalization techniques by Column \n",
    "column1 = 'EstimatedSalary'\n",
    "scaled_df[column1] = (scaled_df[column1] - scaled_df[column1].min()) / (scaled_df[column1].max() - scaled_df[column1].min())    \n",
    "  \n",
    "column2 = 'Balance'\n",
    "scaled_df[column2] = (scaled_df[column2] - scaled_df[column2].min()) / (scaled_df[column2].max() - scaled_df[column2].min())    \n",
    "\n",
    "column3 = 'Score'\n",
    "scaled_df[column3] = (scaled_df[column3] - scaled_df[column3].min()) / (scaled_df[column3].max() - scaled_df[column3].min())\n",
    "\n",
    "column4 = 'age_by_application'\n",
    "scaled_df[column4] = (scaled_df[column4] - scaled_df[column4].min()) / (scaled_df[column4].max() - scaled_df[column4].min())\n",
    "\n",
    "# view normalized data\n",
    "display(scaled_df)"
   ]
  },
  {
   "cell_type": "code",
   "execution_count": 71,
   "id": "friendly-allen",
   "metadata": {},
   "outputs": [
    {
     "data": {
      "text/html": [
       "<div>\n",
       "<style scoped>\n",
       "    .dataframe tbody tr th:only-of-type {\n",
       "        vertical-align: middle;\n",
       "    }\n",
       "\n",
       "    .dataframe tbody tr th {\n",
       "        vertical-align: top;\n",
       "    }\n",
       "\n",
       "    .dataframe thead th {\n",
       "        text-align: right;\n",
       "    }\n",
       "</style>\n",
       "<table border=\"1\" class=\"dataframe\">\n",
       "  <thead>\n",
       "    <tr style=\"text-align: right;\">\n",
       "      <th></th>\n",
       "      <th>HasCrCard</th>\n",
       "      <th>EstimatedSalary</th>\n",
       "      <th>age_by_application</th>\n",
       "      <th>Num_of_Products</th>\n",
       "      <th>Balance</th>\n",
       "      <th>Score</th>\n",
       "      <th>Geography_France</th>\n",
       "      <th>Geography_Germany</th>\n",
       "      <th>Geography_Spain</th>\n",
       "      <th>Gender_Female</th>\n",
       "      <th>Gender_Male</th>\n",
       "    </tr>\n",
       "    <tr>\n",
       "      <th>CustomerId</th>\n",
       "      <th></th>\n",
       "      <th></th>\n",
       "      <th></th>\n",
       "      <th></th>\n",
       "      <th></th>\n",
       "      <th></th>\n",
       "      <th></th>\n",
       "      <th></th>\n",
       "      <th></th>\n",
       "      <th></th>\n",
       "      <th></th>\n",
       "    </tr>\n",
       "  </thead>\n",
       "  <tbody>\n",
       "    <tr>\n",
       "      <th>15610711</th>\n",
       "      <td>0.0</td>\n",
       "      <td>0.838326</td>\n",
       "      <td>0.297297</td>\n",
       "      <td>1</td>\n",
       "      <td>0.580702</td>\n",
       "      <td>0.613483</td>\n",
       "      <td>0</td>\n",
       "      <td>1</td>\n",
       "      <td>0</td>\n",
       "      <td>1</td>\n",
       "      <td>0</td>\n",
       "    </tr>\n",
       "    <tr>\n",
       "      <th>15594720</th>\n",
       "      <td>1.0</td>\n",
       "      <td>0.946710</td>\n",
       "      <td>0.229730</td>\n",
       "      <td>2</td>\n",
       "      <td>0.463779</td>\n",
       "      <td>0.123596</td>\n",
       "      <td>0</td>\n",
       "      <td>1</td>\n",
       "      <td>0</td>\n",
       "      <td>1</td>\n",
       "      <td>0</td>\n",
       "    </tr>\n",
       "    <tr>\n",
       "      <th>15706552</th>\n",
       "      <td>0.0</td>\n",
       "      <td>0.783592</td>\n",
       "      <td>0.243243</td>\n",
       "      <td>1</td>\n",
       "      <td>0.385096</td>\n",
       "      <td>0.287640</td>\n",
       "      <td>1</td>\n",
       "      <td>0</td>\n",
       "      <td>0</td>\n",
       "      <td>0</td>\n",
       "      <td>1</td>\n",
       "    </tr>\n",
       "    <tr>\n",
       "      <th>15594084</th>\n",
       "      <td>1.0</td>\n",
       "      <td>0.371758</td>\n",
       "      <td>0.054054</td>\n",
       "      <td>2</td>\n",
       "      <td>0.000000</td>\n",
       "      <td>0.267416</td>\n",
       "      <td>1</td>\n",
       "      <td>0</td>\n",
       "      <td>0</td>\n",
       "      <td>0</td>\n",
       "      <td>1</td>\n",
       "    </tr>\n",
       "    <tr>\n",
       "      <th>15756871</th>\n",
       "      <td>1.0</td>\n",
       "      <td>0.674270</td>\n",
       "      <td>0.283784</td>\n",
       "      <td>1</td>\n",
       "      <td>0.000000</td>\n",
       "      <td>0.240449</td>\n",
       "      <td>0</td>\n",
       "      <td>0</td>\n",
       "      <td>1</td>\n",
       "      <td>0</td>\n",
       "      <td>1</td>\n",
       "    </tr>\n",
       "  </tbody>\n",
       "</table>\n",
       "</div>"
      ],
      "text/plain": [
       "            HasCrCard  EstimatedSalary  age_by_application  Num_of_Products  \\\n",
       "CustomerId                                                                    \n",
       "15610711          0.0         0.838326            0.297297                1   \n",
       "15594720          1.0         0.946710            0.229730                2   \n",
       "15706552          0.0         0.783592            0.243243                1   \n",
       "15594084          1.0         0.371758            0.054054                2   \n",
       "15756871          1.0         0.674270            0.283784                1   \n",
       "\n",
       "             Balance     Score  Geography_France  Geography_Germany  \\\n",
       "CustomerId                                                            \n",
       "15610711    0.580702  0.613483                 0                  1   \n",
       "15594720    0.463779  0.123596                 0                  1   \n",
       "15706552    0.385096  0.287640                 1                  0   \n",
       "15594084    0.000000  0.267416                 1                  0   \n",
       "15756871    0.000000  0.240449                 0                  0   \n",
       "\n",
       "            Geography_Spain  Gender_Female  Gender_Male  \n",
       "CustomerId                                               \n",
       "15610711                  0              1            0  \n",
       "15594720                  0              1            0  \n",
       "15706552                  0              0            1  \n",
       "15594084                  0              0            1  \n",
       "15756871                  1              0            1  "
      ]
     },
     "execution_count": 71,
     "metadata": {},
     "output_type": "execute_result"
    }
   ],
   "source": [
    "scaled_df.head()"
   ]
  },
  {
   "cell_type": "markdown",
   "id": "chinese-genius",
   "metadata": {},
   "source": [
    "## Part III - DEVELOP"
   ]
  },
  {
   "cell_type": "code",
   "execution_count": 73,
   "id": "interpreted-concord",
   "metadata": {},
   "outputs": [],
   "source": [
    "from sklearn.model_selection import train_test_split\n",
    "from sklearn import metrics\n",
    "from sklearn.metrics import accuracy_score, f1_score, confusion_matrix, classification_report\n",
    "from sklearn.linear_model import LogisticRegression\n",
    "from sklearn.ensemble import RandomForestClassifier\n",
    "from sklearn.model_selection import cross_validate\n",
    "from xgboost import XGBClassifier, plot_importance\n",
    "from sklearn.svm import SVC"
   ]
  },
  {
   "cell_type": "code",
   "execution_count": 74,
   "id": "hydraulic-wages",
   "metadata": {},
   "outputs": [],
   "source": [
    "X_train, X_test, y_train, y_test = train_test_split(scaled_df, target ,test_size=0.30, random_state = 1)"
   ]
  },
  {
   "cell_type": "markdown",
   "id": "distinct-accounting",
   "metadata": {},
   "source": [
    "**What metric am I going to use?**"
   ]
  },
  {
   "cell_type": "markdown",
   "id": "aging-incentive",
   "metadata": {},
   "source": [
    "I decided to focus on Precision and Call.\n",
    "\n",
    "**Precision** is the % of all churn that the model correctly identifies\n",
    "**Recall** is the % of identified churn that actually ends up churning\n",
    "\n",
    "These evaluate false positives, which lead to unnecessary and costly churn prevention efforts, and false negatives, which lead to companies churning without being identified.\n",
    "\n"
   ]
  },
  {
   "cell_type": "markdown",
   "id": "unlike-alias",
   "metadata": {},
   "source": [
    "**Baseline model I: Logistic Regression**"
   ]
  },
  {
   "cell_type": "code",
   "execution_count": 75,
   "id": "speaking-roman",
   "metadata": {},
   "outputs": [
    {
     "data": {
      "text/plain": [
       "LogisticRegression()"
      ]
     },
     "execution_count": 75,
     "metadata": {},
     "output_type": "execute_result"
    }
   ],
   "source": [
    "#Logistic Regression model\n",
    "\n",
    "lr = LogisticRegression()\n",
    "lr.fit(X_train, y_train)"
   ]
  },
  {
   "cell_type": "code",
   "execution_count": 76,
   "id": "nominated-bristol",
   "metadata": {},
   "outputs": [],
   "source": [
    "X_test_lr = X_test\n",
    "lr_predictions = lr.predict(X_test_lr)"
   ]
  },
  {
   "cell_type": "code",
   "execution_count": 77,
   "id": "abandoned-fraction",
   "metadata": {},
   "outputs": [
    {
     "name": "stdout",
     "output_type": "stream",
     "text": [
      "Accuracy: 0.5454164922561742\n"
     ]
    }
   ],
   "source": [
    "#Model Accuracy, how often is the classifier correct?\n",
    "print(\"Accuracy:\", metrics.accuracy_score(y_test, lr_predictions))"
   ]
  },
  {
   "cell_type": "code",
   "execution_count": 78,
   "id": "productive-belief",
   "metadata": {},
   "outputs": [
    {
     "name": "stdout",
     "output_type": "stream",
     "text": [
      "              precision    recall  f1-score   support\n",
      "\n",
      "         0.0       0.48      0.29      0.36      1062\n",
      "         1.0       0.57      0.75      0.65      1327\n",
      "\n",
      "    accuracy                           0.55      2389\n",
      "   macro avg       0.52      0.52      0.50      2389\n",
      "weighted avg       0.53      0.55      0.52      2389\n",
      "\n"
     ]
    }
   ],
   "source": [
    "#Classification report\n",
    "print(classification_report(y_test, lr_predictions))"
   ]
  },
  {
   "cell_type": "markdown",
   "id": "played-olympus",
   "metadata": {},
   "source": [
    "**Baseline Model II: Random Forest**"
   ]
  },
  {
   "cell_type": "code",
   "execution_count": 103,
   "id": "floating-heavy",
   "metadata": {},
   "outputs": [],
   "source": [
    "clf=RandomForestClassifier(n_estimators = 10, random_state = 42)"
   ]
  },
  {
   "cell_type": "code",
   "execution_count": 104,
   "id": "norwegian-physiology",
   "metadata": {},
   "outputs": [
    {
     "data": {
      "text/plain": [
       "RandomForestClassifier(n_estimators=10, random_state=42)"
      ]
     },
     "execution_count": 104,
     "metadata": {},
     "output_type": "execute_result"
    }
   ],
   "source": [
    "clf.fit(X_train,y_train)"
   ]
  },
  {
   "cell_type": "code",
   "execution_count": 105,
   "id": "elementary-pharmaceutical",
   "metadata": {},
   "outputs": [],
   "source": [
    "#Making predictions\n",
    "X_test_clf = X_test\n",
    "clf_predictions = clf.predict(X_test_clf)"
   ]
  },
  {
   "cell_type": "code",
   "execution_count": 106,
   "id": "strategic-conversion",
   "metadata": {},
   "outputs": [
    {
     "name": "stdout",
     "output_type": "stream",
     "text": [
      "Accuracy: 0.5403934700711595\n"
     ]
    }
   ],
   "source": [
    "#Model Accuracy, how often is the classifier correct?\n",
    "print(\"Accuracy:\",metrics.accuracy_score(y_test, clf_predictions))"
   ]
  },
  {
   "cell_type": "code",
   "execution_count": 107,
   "id": "fuzzy-lobby",
   "metadata": {},
   "outputs": [
    {
     "name": "stdout",
     "output_type": "stream",
     "text": [
      "              precision    recall  f1-score   support\n",
      "\n",
      "         0.0       0.49      0.58      0.53      1062\n",
      "         1.0       0.60      0.50      0.55      1327\n",
      "\n",
      "    accuracy                           0.54      2389\n",
      "   macro avg       0.54      0.54      0.54      2389\n",
      "weighted avg       0.55      0.54      0.54      2389\n",
      "\n"
     ]
    }
   ],
   "source": [
    "#Classification report\n",
    "print(classification_report(y_test, clf_predictions))"
   ]
  },
  {
   "cell_type": "markdown",
   "id": "residential-anthony",
   "metadata": {},
   "source": [
    "**Baseline Model III: XGBoost Model**"
   ]
  },
  {
   "cell_type": "code",
   "execution_count": 108,
   "id": "velvet-hurricane",
   "metadata": {},
   "outputs": [],
   "source": [
    "#XGBoost model\n",
    "\n",
    " '''\n",
    " xgb = XGBClassifier(learning_rate =0.5,\n",
    " n_estimators=1000,\n",
    " max_depth=5,min_child_weight=1,\n",
    " gamma=0,\n",
    " subsample=0.8,\n",
    " colsample_bytree=0.8,\n",
    " objective= 'binary:logistic',\n",
    " nthread=4,\n",
    " scale_pos_weight=1,\n",
    " seed=27)'''\n",
    "\n"
   ]
  },
  {
   "cell_type": "code",
   "execution_count": 113,
   "id": "functional-complement",
   "metadata": {},
   "outputs": [
    {
     "name": "stdout",
     "output_type": "stream",
     "text": [
      "[0.08953695 0.10084388 0.10879522 0.08865972 0.10208606 0.08560492\n",
      " 0.07446289 0.09772336 0.10051935 0.06547914 0.08628855]\n"
     ]
    },
    {
     "data": {
      "image/png": "[encoded data removed]",
      "text/plain": [
       "<Figure size 432x288 with 1 Axes>"
      ]
     },
     "metadata": {
      "needs_background": "light"
     },
     "output_type": "display_data"
    }
   ],
   "source": [
    "from matplotlib import pyplot\n",
    "\n",
    "# feature importance\n",
    "print(xgb.feature_importances_)\n",
    "# plot\n",
    "pyplot.bar(range(len(xgb.feature_importances_)), xgb.feature_importances_)\n",
    "pyplot.show()"
   ]
  },
  {
   "cell_type": "markdown",
   "id": "beginning-gathering",
   "metadata": {},
   "source": [
    "According to these graph the three most important features for prediction are Estimated Salary, Age at the moment of application, and balance in the bank account at the moment of application."
   ]
  },
  {
   "cell_type": "markdown",
   "id": "accomplished-republican",
   "metadata": {},
   "source": [
    "We can additionally use the most important features to filter the features that go into our model. "
   ]
  }
 ],
 "metadata": {
  "kernelspec": {
   "display_name": "Python 3",
   "language": "python",
   "name": "python3"
  },
  "language_info": {
   "codemirror_mode": {
    "name": "ipython",
    "version": 3
   },
   "file_extension": ".py",
   "mimetype": "text/x-python",
   "name": "python",
   "nbconvert_exporter": "python",
   "pygments_lexer": "ipython3",
   "version": "3.7.9"
  }
 },
 "nbformat": 4,
 "nbformat_minor": 5
}
